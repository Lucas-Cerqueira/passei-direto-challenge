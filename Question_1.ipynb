{
 "cells": [
  {
   "cell_type": "code",
   "execution_count": 2,
   "metadata": {},
   "outputs": [],
   "source": [
    "import pandas as pd\n",
    "import numpy as np"
   ]
  },
  {
   "cell_type": "markdown",
   "metadata": {},
   "source": [
    "## Carregando os dados"
   ]
  },
  {
   "cell_type": "code",
   "execution_count": 3,
   "metadata": {},
   "outputs": [
    {
     "data": {
      "text/html": [
       "<div>\n",
       "<style scoped>\n",
       "    .dataframe tbody tr th:only-of-type {\n",
       "        vertical-align: middle;\n",
       "    }\n",
       "\n",
       "    .dataframe tbody tr th {\n",
       "        vertical-align: top;\n",
       "    }\n",
       "\n",
       "    .dataframe thead th {\n",
       "        text-align: right;\n",
       "    }\n",
       "</style>\n",
       "<table border=\"1\" class=\"dataframe\">\n",
       "  <thead>\n",
       "    <tr style=\"text-align: right;\">\n",
       "      <th></th>\n",
       "      <th>StudentId</th>\n",
       "      <th>RegisteredDate</th>\n",
       "      <th>SubscriptionDate</th>\n",
       "    </tr>\n",
       "  </thead>\n",
       "  <tbody>\n",
       "    <tr>\n",
       "      <th>0</th>\n",
       "      <td>98723802</td>\n",
       "      <td>2017-11-01 00:06:09.988381</td>\n",
       "      <td>2017-11-01 01:20:11.000000</td>\n",
       "    </tr>\n",
       "    <tr>\n",
       "      <th>1</th>\n",
       "      <td>86905029</td>\n",
       "      <td>2017-11-01 00:19:31.215160</td>\n",
       "      <td>2017-11-17 21:58:57.163663</td>\n",
       "    </tr>\n",
       "    <tr>\n",
       "      <th>2</th>\n",
       "      <td>40935842</td>\n",
       "      <td>2017-11-01 00:23:43.138459</td>\n",
       "      <td>2017-11-01 01:26:17.114303</td>\n",
       "    </tr>\n",
       "    <tr>\n",
       "      <th>3</th>\n",
       "      <td>83184096</td>\n",
       "      <td>2017-11-01 00:27:33.721328</td>\n",
       "      <td>2018-05-18 14:08:42.000000</td>\n",
       "    </tr>\n",
       "    <tr>\n",
       "      <th>4</th>\n",
       "      <td>12771137</td>\n",
       "      <td>2017-11-01 00:32:57.191732</td>\n",
       "      <td>2017-11-01 00:59:44.849137</td>\n",
       "    </tr>\n",
       "  </tbody>\n",
       "</table>\n",
       "</div>"
      ],
      "text/plain": [
       "   StudentId             RegisteredDate           SubscriptionDate\n",
       "0   98723802 2017-11-01 00:06:09.988381 2017-11-01 01:20:11.000000\n",
       "1   86905029 2017-11-01 00:19:31.215160 2017-11-17 21:58:57.163663\n",
       "2   40935842 2017-11-01 00:23:43.138459 2017-11-01 01:26:17.114303\n",
       "3   83184096 2017-11-01 00:27:33.721328 2018-05-18 14:08:42.000000\n",
       "4   12771137 2017-11-01 00:32:57.191732 2017-11-01 00:59:44.849137"
      ]
     },
     "execution_count": 3,
     "metadata": {},
     "output_type": "execute_result"
    }
   ],
   "source": [
    "df = pd.read_json('data/BASE A/premium_students.json')\n",
    "df['SubscriptionDate'] = pd.to_datetime(df['SubscriptionDate'])\n",
    "df['RegisteredDate'] = pd.to_datetime(df['RegisteredDate'])\n",
    "df.head()"
   ]
  },
  {
   "cell_type": "markdown",
   "metadata": {},
   "source": [
    "## Histograma das datas de registro\n",
    "Somente para verificar se não há algum comportamento específico ao longo do mês. Acredito que a tendência ao longo do mês de novembro, conforme o final do ano letivo se aproxima, seja de decrescimento no número de registros, como observado."
   ]
  },
  {
   "cell_type": "code",
   "execution_count": 94,
   "metadata": {},
   "outputs": [
    {
     "data": {
      "text/plain": [
       "<matplotlib.axes._subplots.AxesSubplot at 0x7f8782945610>"
      ]
     },
     "execution_count": 94,
     "metadata": {},
     "output_type": "execute_result"
    },
    {
     "data": {
      "image/png": "[encoded data removed]",
      "text/plain": [
       "<Figure size 432x288 with 1 Axes>"
      ]
     },
     "metadata": {
      "needs_background": "light"
     },
     "output_type": "display_data"
    }
   ],
   "source": [
    "df['RegisteredDate'].hist(bins=15, xrot=45)"
   ]
  },
  {
   "cell_type": "markdown",
   "metadata": {},
   "source": [
    "## Histograma das datas de assinatura\n",
    "Pelo gráfico, é possível observar três comportamentos distintos: o primeiro com assinaturas ainda em novembro e dezembro de 2017, o segundo momento em janeiro e fevereiro com uma queda no número de assinaturas e coincidino com o período de férias escolares; e um terceiro momento com aumento no número de assinaturas de março em diante conforme o ano letivo recomeça."
   ]
  },
  {
   "cell_type": "code",
   "execution_count": 100,
   "metadata": {},
   "outputs": [
    {
     "data": {
      "text/plain": [
       "<matplotlib.axes._subplots.AxesSubplot at 0x7f8780e3dc10>"
      ]
     },
     "execution_count": 100,
     "metadata": {},
     "output_type": "execute_result"
    },
    {
     "data": {
      "image/png": "[encoded data removed]",
      "text/plain": [
       "<Figure size 720x360 with 1 Axes>"
      ]
     },
     "metadata": {
      "needs_background": "light"
     },
     "output_type": "display_data"
    }
   ],
   "source": [
    "df['SubscriptionDate'].hist(bins=15, xrot=45, figsize=(10,5))"
   ]
  },
  {
   "cell_type": "markdown",
   "metadata": {},
   "source": [
    "#### Mais de 68% dos estudantes se registrou ainda em 2017"
   ]
  },
  {
   "cell_type": "code",
   "execution_count": 26,
   "metadata": {},
   "outputs": [
    {
     "data": {
      "text/plain": [
       "68.21086261980831"
      ]
     },
     "execution_count": 26,
     "metadata": {},
     "output_type": "execute_result"
    }
   ],
   "source": [
    "100 * len(df[df['SubscriptionDate'] < '2018-01-01']) / len(df)"
   ]
  },
  {
   "cell_type": "markdown",
   "metadata": {},
   "source": [
    "### Limitando a análise\n",
    "A partir disso, o terceiro momento com aumento das assinaturas parece estar intimamente relacionado à época do ano e não à forma como o usuário é introduzido aos planos e vantagens após o registro. Portanto, para esta análise, só irei considerar os alunos que se registraram até o fim de 2017."
   ]
  },
  {
   "cell_type": "code",
   "execution_count": 27,
   "metadata": {},
   "outputs": [],
   "source": [
    "df = df[df['SubscriptionDate'] < '2018-01-01']"
   ]
  },
  {
   "cell_type": "markdown",
   "metadata": {},
   "source": [
    "### Calculando a quantidade de dias do registro até a assinatura\n",
    "É possível observar que cerca de 75% dos alunos que criaram a conta em Nov/17 e assinaram até o final do ano, fizeram a assinaturam dentro de 2 dias."
   ]
  },
  {
   "cell_type": "code",
   "execution_count": 29,
   "metadata": {},
   "outputs": [
    {
     "data": {
      "text/plain": [
       "count    4270.000000\n",
       "mean        3.036021\n",
       "std         6.635352\n",
       "min         0.000700\n",
       "25%         0.086457\n",
       "50%         0.111286\n",
       "75%         2.020434\n",
       "max        45.686709\n",
       "dtype: float64"
      ]
     },
     "execution_count": 29,
     "metadata": {},
     "output_type": "execute_result"
    }
   ],
   "source": [
    "date_diff = df['SubscriptionDate'] - df['RegisteredDate']\n",
    "days = date_diff.dt.total_seconds() / (3600 * 24) # Convert to days\n",
    "days.describe()"
   ]
  },
  {
   "cell_type": "markdown",
   "metadata": {},
   "source": [
    "### Analisando em ranges específicos\n",
    "A partir dessa análise, dos alunos que criaram a conta em Nov/17 e assinaram até o final do ano, cerca de 70% viraram Premium ainda no primeiro dia. Passado esse primeiro dia, cerca de 15% dos usuários decidiram por assinar antes de uma semana de uso. \n",
    "\n",
    "A partir desses dados, parece que o estudante já se registra na plataforma com uma necessidade a ser sanada, como acesso a algum livro ou material, e, por conta do *Content Restriction*, vê o Premium como uma oportunidade viável de ter acesso a todo esse material em um só lugar. Especialmnente para o caso de livros, que podem ter preços bem elevados e o preço da assinatura acaba valendo mais a pena."
   ]
  },
  {
   "cell_type": "code",
   "execution_count": 79,
   "metadata": {},
   "outputs": [
    {
     "name": "stdout",
     "output_type": "stream",
     "text": [
      "From 0 to 1 days: 70.21% students\n",
      "From 1 to 7 days: 14.89% students\n",
      "From 7 to 14 days: 7.7% students\n",
      "From 14 to 30 days: 5.76% students\n",
      "From 30 to 46 days: 1.43% students\n"
     ]
    }
   ],
   "source": [
    "ranges = [(0, 1), (1, 7), (7, 14), (14, 30), (30, None)]\n",
    "total = float(len(days))\n",
    "for days_range in ranges:\n",
    "    min_days = days_range[0]\n",
    "    max_days = days_range[1] if days_range[1] is not None else int(np.ceil(days.max()))\n",
    "    prob = ((days >= min_days) & (days < max_days)).sum() / total\n",
    "    print(f'From {min_days} to {max_days} days: {round(prob * 100, 2)}% students')"
   ]
  },
  {
   "cell_type": "code",
   "execution_count": 76,
   "metadata": {
    "scrolled": false
   },
   "outputs": [
    {
     "data": {
      "text/plain": [
       "<matplotlib.axes._subplots.AxesSubplot at 0x7f9c223550d0>"
      ]
     },
     "execution_count": 76,
     "metadata": {},
     "output_type": "execute_result"
    },
    {
     "data": {
      "image/png": "[encoded data removed]",
      "text/plain": [
       "<Figure size 720x288 with 1 Axes>"
      ]
     },
     "metadata": {
      "needs_background": "light"
     },
     "output_type": "display_data"
    }
   ],
   "source": [
    "days.hist(grid=True, bins=15, figsize=(10,4))"
   ]
  }
 ],
 "metadata": {
  "kernelspec": {
   "display_name": "Python 3",
   "language": "python",
   "name": "python3"
  },
  "language_info": {
   "codemirror_mode": {
    "name": "ipython",
    "version": 3
   },
   "file_extension": ".py",
   "mimetype": "text/x-python",
   "name": "python",
   "nbconvert_exporter": "python",
   "pygments_lexer": "ipython3",
   "version": "3.7.6"
  },
  "pycharm": {
   "stem_cell": {
    "cell_type": "raw",
    "metadata": {
     "collapsed": false
    },
    "source": []
   }
  }
 },
 "nbformat": 4,
 "nbformat_minor": 1
}
