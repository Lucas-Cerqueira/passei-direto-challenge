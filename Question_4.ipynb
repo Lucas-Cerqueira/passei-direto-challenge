{
 "cells": [
  {
   "cell_type": "code",
   "execution_count": 1,
   "metadata": {},
   "outputs": [],
   "source": [
    "import pandas as pd\n",
    "import numpy as np\n",
    "import seaborn as sns\n",
    "import matplotlib.pyplot as plt\n",
    "from bs4 import BeautifulSoup\n",
    "import warnings\n",
    "\n",
    "sns.set(font_scale=1.3, \n",
    "        font='Calibri', \n",
    "        style=\"whitegrid\")"
   ]
  },
  {
   "cell_type": "markdown",
   "metadata": {},
   "source": [
    "## Carregando os dados"
   ]
  },
  {
   "cell_type": "markdown",
   "metadata": {},
   "source": [
    "### Dados sobre os estudates"
   ]
  },
  {
   "cell_type": "code",
   "execution_count": 2,
   "metadata": {},
   "outputs": [
    {
     "data": {
      "text/html": [
       "<div>\n",
       "<style scoped>\n",
       "    .dataframe tbody tr th:only-of-type {\n",
       "        vertical-align: middle;\n",
       "    }\n",
       "\n",
       "    .dataframe tbody tr th {\n",
       "        vertical-align: top;\n",
       "    }\n",
       "\n",
       "    .dataframe thead th {\n",
       "        text-align: right;\n",
       "    }\n",
       "</style>\n",
       "<table border=\"1\" class=\"dataframe\">\n",
       "  <thead>\n",
       "    <tr style=\"text-align: right;\">\n",
       "      <th></th>\n",
       "      <th>Id</th>\n",
       "      <th>RegisteredDate</th>\n",
       "      <th>UniversityName</th>\n",
       "      <th>CourseName</th>\n",
       "      <th>State</th>\n",
       "      <th>SignupSource</th>\n",
       "      <th>City</th>\n",
       "      <th>StudentClient</th>\n",
       "    </tr>\n",
       "  </thead>\n",
       "  <tbody>\n",
       "    <tr>\n",
       "      <th>0</th>\n",
       "      <td>12970655</td>\n",
       "      <td>2012-05-29 15:22:27.490</td>\n",
       "      <td>PUC-RIO</td>\n",
       "      <td>Administração</td>\n",
       "      <td>Rio de Janeiro</td>\n",
       "      <td>Email</td>\n",
       "      <td>NaN</td>\n",
       "      <td>NaN</td>\n",
       "    </tr>\n",
       "    <tr>\n",
       "      <th>1</th>\n",
       "      <td>59873654</td>\n",
       "      <td>2012-09-03 20:32:04.853</td>\n",
       "      <td>UFF</td>\n",
       "      <td>Direito do Trabalho e Segurança Social</td>\n",
       "      <td>Rio de Janeiro</td>\n",
       "      <td>Facebook</td>\n",
       "      <td>Rio de Janeiro</td>\n",
       "      <td>NaN</td>\n",
       "    </tr>\n",
       "    <tr>\n",
       "      <th>2</th>\n",
       "      <td>3664695</td>\n",
       "      <td>2012-09-10 20:26:30.253</td>\n",
       "      <td>UNB</td>\n",
       "      <td>Enfermagem</td>\n",
       "      <td>Distrito Federal</td>\n",
       "      <td>Facebook</td>\n",
       "      <td>NaN</td>\n",
       "      <td>NaN</td>\n",
       "    </tr>\n",
       "    <tr>\n",
       "      <th>3</th>\n",
       "      <td>15207697</td>\n",
       "      <td>2012-09-05 15:31:08.090</td>\n",
       "      <td>UERJ</td>\n",
       "      <td>Engenharia de Produção Mecânica</td>\n",
       "      <td>Rio de Janeiro</td>\n",
       "      <td>Facebook</td>\n",
       "      <td>Resende</td>\n",
       "      <td>NaN</td>\n",
       "    </tr>\n",
       "    <tr>\n",
       "      <th>4</th>\n",
       "      <td>36988693</td>\n",
       "      <td>2012-10-15 21:34:51.143</td>\n",
       "      <td>UFU</td>\n",
       "      <td>Engenharia Elétrica</td>\n",
       "      <td>NaN</td>\n",
       "      <td>Facebook</td>\n",
       "      <td>NaN</td>\n",
       "      <td>NaN</td>\n",
       "    </tr>\n",
       "  </tbody>\n",
       "</table>\n",
       "</div>"
      ],
      "text/plain": [
       "         Id          RegisteredDate UniversityName  \\\n",
       "0  12970655 2012-05-29 15:22:27.490        PUC-RIO   \n",
       "1  59873654 2012-09-03 20:32:04.853            UFF   \n",
       "2   3664695 2012-09-10 20:26:30.253            UNB   \n",
       "3  15207697 2012-09-05 15:31:08.090           UERJ   \n",
       "4  36988693 2012-10-15 21:34:51.143            UFU   \n",
       "\n",
       "                               CourseName             State SignupSource  \\\n",
       "0                           Administração    Rio de Janeiro        Email   \n",
       "1  Direito do Trabalho e Segurança Social    Rio de Janeiro     Facebook   \n",
       "2                              Enfermagem  Distrito Federal     Facebook   \n",
       "3         Engenharia de Produção Mecânica    Rio de Janeiro     Facebook   \n",
       "4                     Engenharia Elétrica               NaN     Facebook   \n",
       "\n",
       "             City StudentClient  \n",
       "0             NaN           NaN  \n",
       "1  Rio de Janeiro           NaN  \n",
       "2             NaN           NaN  \n",
       "3         Resende           NaN  \n",
       "4             NaN           NaN  "
      ]
     },
     "execution_count": 2,
     "metadata": {},
     "output_type": "execute_result"
    }
   ],
   "source": [
    "df_students = pd.read_json('data/BASE B/students.json')\n",
    "df_students['RegisteredDate'] = pd.to_datetime(df_students['RegisteredDate'])\n",
    "df_students.head()"
   ]
  },
  {
   "cell_type": "markdown",
   "metadata": {},
   "source": [
    "### Dados sobre os cancelamentos"
   ]
  },
  {
   "cell_type": "code",
   "execution_count": 3,
   "metadata": {},
   "outputs": [
    {
     "data": {
      "text/html": [
       "<div>\n",
       "<style scoped>\n",
       "    .dataframe tbody tr th:only-of-type {\n",
       "        vertical-align: middle;\n",
       "    }\n",
       "\n",
       "    .dataframe tbody tr th {\n",
       "        vertical-align: top;\n",
       "    }\n",
       "\n",
       "    .dataframe thead th {\n",
       "        text-align: right;\n",
       "    }\n",
       "</style>\n",
       "<table border=\"1\" class=\"dataframe\">\n",
       "  <thead>\n",
       "    <tr style=\"text-align: right;\">\n",
       "      <th></th>\n",
       "      <th>StudentId</th>\n",
       "      <th>CancellationDate</th>\n",
       "      <th>year</th>\n",
       "      <th>month</th>\n",
       "    </tr>\n",
       "  </thead>\n",
       "  <tbody>\n",
       "    <tr>\n",
       "      <th>0</th>\n",
       "      <td>34129668</td>\n",
       "      <td>2016-05-05 19:08:31.937</td>\n",
       "      <td>2016</td>\n",
       "      <td>5</td>\n",
       "    </tr>\n",
       "    <tr>\n",
       "      <th>1</th>\n",
       "      <td>34129668</td>\n",
       "      <td>2016-05-05 22:48:20.830</td>\n",
       "      <td>2016</td>\n",
       "      <td>5</td>\n",
       "    </tr>\n",
       "    <tr>\n",
       "      <th>2</th>\n",
       "      <td>82394932</td>\n",
       "      <td>2016-05-20 22:37:21.117</td>\n",
       "      <td>2016</td>\n",
       "      <td>5</td>\n",
       "    </tr>\n",
       "    <tr>\n",
       "      <th>3</th>\n",
       "      <td>82942835</td>\n",
       "      <td>2016-05-31 13:44:55.307</td>\n",
       "      <td>2016</td>\n",
       "      <td>5</td>\n",
       "    </tr>\n",
       "    <tr>\n",
       "      <th>4</th>\n",
       "      <td>85382416</td>\n",
       "      <td>2016-06-01 14:22:19.467</td>\n",
       "      <td>2016</td>\n",
       "      <td>6</td>\n",
       "    </tr>\n",
       "  </tbody>\n",
       "</table>\n",
       "</div>"
      ],
      "text/plain": [
       "   StudentId        CancellationDate  year  month\n",
       "0   34129668 2016-05-05 19:08:31.937  2016      5\n",
       "1   34129668 2016-05-05 22:48:20.830  2016      5\n",
       "2   82394932 2016-05-20 22:37:21.117  2016      5\n",
       "3   82942835 2016-05-31 13:44:55.307  2016      5\n",
       "4   85382416 2016-06-01 14:22:19.467  2016      6"
      ]
     },
     "execution_count": 3,
     "metadata": {},
     "output_type": "execute_result"
    }
   ],
   "source": [
    "df_cancellations = pd.read_json('data/BASE B/premium_cancellations.json')\n",
    "df_cancellations['CancellationDate'] = pd.to_datetime(df_cancellations['CancellationDate'])\n",
    "df_cancellations['year'] = df_cancellations['CancellationDate'].dt.year\n",
    "df_cancellations['month'] = df_cancellations['CancellationDate'].dt.month\n",
    "df_cancellations.head()"
   ]
  },
  {
   "cell_type": "markdown",
   "metadata": {},
   "source": [
    "### Dados sobre as assinaturas do plano Premium"
   ]
  },
  {
   "cell_type": "code",
   "execution_count": 4,
   "metadata": {},
   "outputs": [
    {
     "name": "stderr",
     "output_type": "stream",
     "text": [
      "/home/lucas/miniconda3/envs/pdenv/lib/python3.7/site-packages/pandas/core/arrays/datetimelike.py:1151: PerformanceWarning: Adding/subtracting array of DateOffsets to DatetimeArray not vectorized\n",
      "  PerformanceWarning,\n"
     ]
    },
    {
     "data": {
      "text/html": [
       "<div>\n",
       "<style scoped>\n",
       "    .dataframe tbody tr th:only-of-type {\n",
       "        vertical-align: middle;\n",
       "    }\n",
       "\n",
       "    .dataframe tbody tr th {\n",
       "        vertical-align: top;\n",
       "    }\n",
       "\n",
       "    .dataframe thead th {\n",
       "        text-align: right;\n",
       "    }\n",
       "</style>\n",
       "<table border=\"1\" class=\"dataframe\">\n",
       "  <thead>\n",
       "    <tr style=\"text-align: right;\">\n",
       "      <th></th>\n",
       "      <th>StudentId</th>\n",
       "      <th>PaymentDate</th>\n",
       "      <th>PlanType</th>\n",
       "      <th>PlanDuration</th>\n",
       "      <th>ExpiryDate</th>\n",
       "      <th>year</th>\n",
       "      <th>month</th>\n",
       "      <th>year-month</th>\n",
       "    </tr>\n",
       "  </thead>\n",
       "  <tbody>\n",
       "    <tr>\n",
       "      <th>1902</th>\n",
       "      <td>78584527</td>\n",
       "      <td>2015-08-08 00:00:00.000</td>\n",
       "      <td>Mensal</td>\n",
       "      <td>&lt;DateOffset: months=1&gt;</td>\n",
       "      <td>2015-09-08 00:00:00.000</td>\n",
       "      <td>2015</td>\n",
       "      <td>8</td>\n",
       "      <td>2015-8</td>\n",
       "    </tr>\n",
       "    <tr>\n",
       "      <th>956</th>\n",
       "      <td>55313801</td>\n",
       "      <td>2015-08-19 00:00:00.000</td>\n",
       "      <td>Mensal</td>\n",
       "      <td>&lt;DateOffset: months=1&gt;</td>\n",
       "      <td>2015-09-19 00:00:00.000</td>\n",
       "      <td>2015</td>\n",
       "      <td>8</td>\n",
       "      <td>2015-8</td>\n",
       "    </tr>\n",
       "    <tr>\n",
       "      <th>565</th>\n",
       "      <td>96396664</td>\n",
       "      <td>2015-08-23 00:00:00.000</td>\n",
       "      <td>Mensal</td>\n",
       "      <td>&lt;DateOffset: months=1&gt;</td>\n",
       "      <td>2015-09-23 00:00:00.000</td>\n",
       "      <td>2015</td>\n",
       "      <td>8</td>\n",
       "      <td>2015-8</td>\n",
       "    </tr>\n",
       "    <tr>\n",
       "      <th>1888</th>\n",
       "      <td>27891872</td>\n",
       "      <td>2015-09-06 20:05:51.157</td>\n",
       "      <td>Mensal</td>\n",
       "      <td>&lt;DateOffset: months=1&gt;</td>\n",
       "      <td>2015-10-06 20:05:51.157</td>\n",
       "      <td>2015</td>\n",
       "      <td>9</td>\n",
       "      <td>2015-9</td>\n",
       "    </tr>\n",
       "    <tr>\n",
       "      <th>176</th>\n",
       "      <td>5523173</td>\n",
       "      <td>2015-09-12 16:00:31.940</td>\n",
       "      <td>Mensal</td>\n",
       "      <td>&lt;DateOffset: months=1&gt;</td>\n",
       "      <td>2015-10-12 16:00:31.940</td>\n",
       "      <td>2015</td>\n",
       "      <td>9</td>\n",
       "      <td>2015-9</td>\n",
       "    </tr>\n",
       "  </tbody>\n",
       "</table>\n",
       "</div>"
      ],
      "text/plain": [
       "      StudentId             PaymentDate PlanType            PlanDuration  \\\n",
       "1902   78584527 2015-08-08 00:00:00.000   Mensal  <DateOffset: months=1>   \n",
       "956    55313801 2015-08-19 00:00:00.000   Mensal  <DateOffset: months=1>   \n",
       "565    96396664 2015-08-23 00:00:00.000   Mensal  <DateOffset: months=1>   \n",
       "1888   27891872 2015-09-06 20:05:51.157   Mensal  <DateOffset: months=1>   \n",
       "176     5523173 2015-09-12 16:00:31.940   Mensal  <DateOffset: months=1>   \n",
       "\n",
       "                  ExpiryDate  year  month year-month  \n",
       "1902 2015-09-08 00:00:00.000  2015      8     2015-8  \n",
       "956  2015-09-19 00:00:00.000  2015      8     2015-8  \n",
       "565  2015-09-23 00:00:00.000  2015      8     2015-8  \n",
       "1888 2015-10-06 20:05:51.157  2015      9     2015-9  \n",
       "176  2015-10-12 16:00:31.940  2015      9     2015-9  "
      ]
     },
     "execution_count": 4,
     "metadata": {},
     "output_type": "execute_result"
    }
   ],
   "source": [
    "df_payments = pd.read_json('data/BASE B/premium_payments.json').sort_values('PaymentDate')\n",
    "df_payments['PaymentDate'] = pd.to_datetime(df_payments['PaymentDate'])\n",
    "\n",
    "df_payments['PlanDuration'] = pd.DateOffset(months=1)\n",
    "df_payments.loc[df_payments['PlanType'] == 'Anual', 'PlanDuration'] = pd.DateOffset(years=1)\n",
    "\n",
    "df_payments['ExpiryDate'] = df_payments['PaymentDate'] + df_payments['PlanDuration']\n",
    "\n",
    "df_payments['year'] = df_payments.PaymentDate.dt.year\n",
    "df_payments['month'] = df_payments.PaymentDate.dt.month\n",
    "df_payments['year-month'] = df_payments['year'].astype(str) + '-' + df_payments['month'].astype(str)\n",
    "\n",
    "df_payments.head()"
   ]
  },
  {
   "cell_type": "markdown",
   "metadata": {},
   "source": [
    "### Dados sobre as sessões"
   ]
  },
  {
   "cell_type": "code",
   "execution_count": 5,
   "metadata": {},
   "outputs": [
    {
     "data": {
      "text/html": [
       "<div>\n",
       "<style scoped>\n",
       "    .dataframe tbody tr th:only-of-type {\n",
       "        vertical-align: middle;\n",
       "    }\n",
       "\n",
       "    .dataframe tbody tr th {\n",
       "        vertical-align: top;\n",
       "    }\n",
       "\n",
       "    .dataframe thead th {\n",
       "        text-align: right;\n",
       "    }\n",
       "</style>\n",
       "<table border=\"1\" class=\"dataframe\">\n",
       "  <thead>\n",
       "    <tr style=\"text-align: right;\">\n",
       "      <th></th>\n",
       "      <th>StudentId</th>\n",
       "      <th>SessionStartTime</th>\n",
       "      <th>StudentClient</th>\n",
       "      <th>year</th>\n",
       "      <th>month</th>\n",
       "      <th>year-month</th>\n",
       "      <th>day</th>\n",
       "      <th>hour</th>\n",
       "      <th>weekday</th>\n",
       "    </tr>\n",
       "  </thead>\n",
       "  <tbody>\n",
       "    <tr>\n",
       "      <th>205146</th>\n",
       "      <td>82394932</td>\n",
       "      <td>2017-02-07 17:46:00</td>\n",
       "      <td>Website</td>\n",
       "      <td>2017</td>\n",
       "      <td>2</td>\n",
       "      <td>2017-2</td>\n",
       "      <td>7</td>\n",
       "      <td>17</td>\n",
       "      <td>Tuesday</td>\n",
       "    </tr>\n",
       "    <tr>\n",
       "      <th>205147</th>\n",
       "      <td>82394932</td>\n",
       "      <td>2017-02-07 17:53:33</td>\n",
       "      <td>Website</td>\n",
       "      <td>2017</td>\n",
       "      <td>2</td>\n",
       "      <td>2017-2</td>\n",
       "      <td>7</td>\n",
       "      <td>17</td>\n",
       "      <td>Tuesday</td>\n",
       "    </tr>\n",
       "    <tr>\n",
       "      <th>615932</th>\n",
       "      <td>32938466</td>\n",
       "      <td>2017-02-08 11:42:47</td>\n",
       "      <td>Website</td>\n",
       "      <td>2017</td>\n",
       "      <td>2</td>\n",
       "      <td>2017-2</td>\n",
       "      <td>8</td>\n",
       "      <td>11</td>\n",
       "      <td>Wednesday</td>\n",
       "    </tr>\n",
       "    <tr>\n",
       "      <th>4326</th>\n",
       "      <td>59828530</td>\n",
       "      <td>2017-02-08 11:46:22</td>\n",
       "      <td>Website</td>\n",
       "      <td>2017</td>\n",
       "      <td>2</td>\n",
       "      <td>2017-2</td>\n",
       "      <td>8</td>\n",
       "      <td>11</td>\n",
       "      <td>Wednesday</td>\n",
       "    </tr>\n",
       "    <tr>\n",
       "      <th>87112</th>\n",
       "      <td>51668081</td>\n",
       "      <td>2017-02-08 11:48:08</td>\n",
       "      <td>Website</td>\n",
       "      <td>2017</td>\n",
       "      <td>2</td>\n",
       "      <td>2017-2</td>\n",
       "      <td>8</td>\n",
       "      <td>11</td>\n",
       "      <td>Wednesday</td>\n",
       "    </tr>\n",
       "  </tbody>\n",
       "</table>\n",
       "</div>"
      ],
      "text/plain": [
       "        StudentId    SessionStartTime StudentClient  year  month year-month  \\\n",
       "205146   82394932 2017-02-07 17:46:00       Website  2017      2     2017-2   \n",
       "205147   82394932 2017-02-07 17:53:33       Website  2017      2     2017-2   \n",
       "615932   32938466 2017-02-08 11:42:47       Website  2017      2     2017-2   \n",
       "4326     59828530 2017-02-08 11:46:22       Website  2017      2     2017-2   \n",
       "87112    51668081 2017-02-08 11:48:08       Website  2017      2     2017-2   \n",
       "\n",
       "        day  hour    weekday  \n",
       "205146    7    17    Tuesday  \n",
       "205147    7    17    Tuesday  \n",
       "615932    8    11  Wednesday  \n",
       "4326      8    11  Wednesday  \n",
       "87112     8    11  Wednesday  "
      ]
     },
     "execution_count": 5,
     "metadata": {},
     "output_type": "execute_result"
    }
   ],
   "source": [
    "df_sessions = pd.read_json('data/BASE B/sessions.json')\n",
    "df_sessions['SessionStartTime'] = pd.to_datetime(df_sessions['SessionStartTime'])\n",
    "df_sessions.sort_values('SessionStartTime', inplace=True)\n",
    "\n",
    "df_sessions['year'] = df_sessions.SessionStartTime.dt.year\n",
    "df_sessions['month'] = df_sessions.SessionStartTime.dt.month\n",
    "df_sessions['year-month'] = df_sessions['year'].astype(str) + '-' + df_sessions['month'].astype(str)\n",
    "\n",
    "df_sessions['day'] = df_sessions.SessionStartTime.dt.day\n",
    "df_sessions['hour'] = df_sessions.SessionStartTime.dt.hour\n",
    "\n",
    "df_sessions['weekday'] = df_sessions.SessionStartTime.dt.weekday\n",
    "weekdays = ['Monday', 'Tuesday', 'Wednesday', 'Thursday', 'Friday', 'Saturday', 'Sunday']\n",
    "df_sessions['weekday'] = df_sessions['weekday'].map(lambda x: weekdays[x])\n",
    "\n",
    "df_sessions.head()"
   ]
  },
  {
   "cell_type": "markdown",
   "metadata": {},
   "source": [
    "# Área Cliente\n",
    "## Alunos por curso"
   ]
  },
  {
   "cell_type": "code",
   "execution_count": 6,
   "metadata": {},
   "outputs": [
    {
     "data": {
      "text/plain": [
       "CourseName\n",
       "Direito                               9862\n",
       "Administração                         4099\n",
       "Engenharia Civil                      3585\n",
       "Contabilidade / Ciências Contábeis    2744\n",
       "Pedagogia                             2627\n",
       "Psicologia                            2155\n",
       "Enfermagem                            2054\n",
       "Medicina                              1656\n",
       "Fisioterapia                          1464\n",
       "Engenharia Mecânica                   1451\n",
       "Nutrição                              1297\n",
       "Farmácia / Ciências Farmacêuticas     1142\n",
       "Educação Física                       1076\n",
       "Engenharia de Produção                1053\n",
       "Odontologia                            985\n",
       "Engenharia Elétrica                    957\n",
       "Veterinária / Medicina Veterinária     890\n",
       "Biologia / Ciências Biológicas         753\n",
       "Arquitetura e Urbanismo                724\n",
       "Gestão de Recursos Humanos             645\n",
       "Name: Id, dtype: int64"
      ]
     },
     "execution_count": 6,
     "metadata": {},
     "output_type": "execute_result"
    }
   ],
   "source": [
    "df_students.groupby('CourseName')['Id'].count().sort_values(ascending=False).head(20)"
   ]
  },
  {
   "cell_type": "markdown",
   "metadata": {},
   "source": [
    "### Acessos por plataforma"
   ]
  },
  {
   "cell_type": "code",
   "execution_count": 7,
   "metadata": {},
   "outputs": [
    {
     "name": "stderr",
     "output_type": "stream",
     "text": [
      "findfont: Font family ['Calibri'] not found. Falling back to DejaVu Sans.\n",
      "findfont: Font family ['Calibri'] not found. Falling back to DejaVu Sans.\n"
     ]
    },
    {
     "data": {
      "image/png": "[encoded data removed]",
      "text/plain": [
       "<Figure size 576x288 with 1 Axes>"
      ]
     },
     "metadata": {},
     "output_type": "display_data"
    }
   ],
   "source": [
    "fig, ax = plt.subplots(1, 1, figsize=(8,4))\n",
    "access_per_client = df_sessions.groupby('StudentClient', sort=False)['SessionStartTime'].count() / len(df_sessions)\n",
    "sns.barplot(x='StudentClient', y='SessionStartTime', \n",
    "            data=access_per_client.reset_index(),\n",
    "            palette='colorblind', ax=ax)\n",
    "ax.set_ylabel('Access percentage')\n",
    "ax.set_xlabel('Platform of access')\n",
    "fig.tight_layout()\n",
    "plt.savefig('figures/question_4/access_platform.eps', format='eps')"
   ]
  },
  {
   "cell_type": "markdown",
   "metadata": {},
   "source": [
    "# Área Financeira\n",
    "### Quantidade de assinantes Premium"
   ]
  },
  {
   "cell_type": "code",
   "execution_count": 8,
   "metadata": {},
   "outputs": [
    {
     "data": {
      "image/png": "[encoded data removed]",
      "text/plain": [
       "<Figure size 864x288 with 1 Axes>"
      ]
     },
     "metadata": {},
     "output_type": "display_data"
    }
   ],
   "source": [
    "fig, ax = plt.subplots(1, 1, figsize=(12,4))\n",
    "sns.barplot(x='year-month', y='PaymentDate', \n",
    "            data=df_payments.groupby('year-month', sort=False).count()['PaymentDate'].reset_index(),\n",
    "            palette='colorblind', ax=ax)\n",
    "ax.set_ylabel('Amount of subscribers')\n",
    "ax.set_xlabel('Year-month')\n",
    "ticks = ax.set_xticklabels(ax.get_xticklabels(), rotation=90)\n",
    "fig.tight_layout()\n",
    "plt.savefig('figures/question_4/amount_of_subscriptions.eps', format='eps')"
   ]
  },
  {
   "cell_type": "markdown",
   "metadata": {},
   "source": [
    "### Análise de renovações de plano anual\n",
    "#### Usuários cujo primeiro plano anual já expirou"
   ]
  },
  {
   "cell_type": "code",
   "execution_count": 19,
   "metadata": {},
   "outputs": [],
   "source": [
    "first_anual_expiry = df_payments.query('PlanType == \"Anual\"').groupby('StudentId')['ExpiryDate'].min()\n",
    "first_anual_expiry_users = first_anual_expiry[first_anual_expiry < df_payments['PaymentDate'].max()].index"
   ]
  },
  {
   "cell_type": "markdown",
   "metadata": {},
   "source": [
    "#### Quantidade de usuáios que assinaram o plano anual $n$ vezes\n",
    "Mais de 50% de taxa de renovação."
   ]
  },
  {
   "cell_type": "code",
   "execution_count": 28,
   "metadata": {},
   "outputs": [
    {
     "data": {
      "text/plain": [
       "1    31\n",
       "2    30\n",
       "3     3\n",
       "Name: PaymentDate, dtype: int64"
      ]
     },
     "metadata": {},
     "output_type": "display_data"
    },
    {
     "data": {
      "text/plain": [
       "0.515625"
      ]
     },
     "execution_count": 28,
     "metadata": {},
     "output_type": "execute_result"
    }
   ],
   "source": [
    "annual_payments = df_payments.query('StudentId in @first_anual_expiry_users')\\\n",
    "                             .groupby(['PlanType', 'StudentId'])['PaymentDate']\\\n",
    "                             .count().loc['Anual'].value_counts()\n",
    "display(annual_payments)\n",
    "annual_payments[annual_payments.index > 1].sum() / annual_payments.sum()"
   ]
  },
  {
   "cell_type": "markdown",
   "metadata": {},
   "source": [
    "#### Percentual de usuários Premium que optam pelo plano anual"
   ]
  },
  {
   "cell_type": "code",
   "execution_count": 29,
   "metadata": {},
   "outputs": [
    {
     "data": {
      "text/plain": [
       "0.14624306606152296"
      ]
     },
     "execution_count": 29,
     "metadata": {},
     "output_type": "execute_result"
    }
   ],
   "source": [
    "len(df_payments.query('PlanType == \"Anual\"').StudentId.unique()) / len(df_payments.StudentId.unique())"
   ]
  },
  {
   "cell_type": "markdown",
   "metadata": {},
   "source": [
    "# Área Marketing\n",
    "### Acessos ao longo da semana"
   ]
  },
  {
   "cell_type": "code",
   "execution_count": 14,
   "metadata": {},
   "outputs": [
    {
     "data": {
      "image/png": "[encoded data removed]",
      "text/plain": [
       "<Figure size 864x288 with 1 Axes>"
      ]
     },
     "metadata": {},
     "output_type": "display_data"
    }
   ],
   "source": [
    "fig, ax = plt.subplots(1, 1, figsize=(12,4))\n",
    "sns.barplot(x='weekday', y='SessionStartTime', \n",
    "            data=df_sessions.groupby('weekday')['SessionStartTime'].count()[weekdays].reset_index(),\n",
    "            palette='colorblind', ax=ax)\n",
    "ax.set_ylabel('Access count')\n",
    "ax.set_xlabel('Week day')\n",
    "ticks = ax.set_xticklabels(weekdays, rotation=45)\n",
    "fig.tight_layout()\n",
    "plt.savefig('figures/question_4/access_weekday.eps', format='eps')"
   ]
  },
  {
   "cell_type": "markdown",
   "metadata": {},
   "source": [
    "### Acessos por mês"
   ]
  },
  {
   "cell_type": "code",
   "execution_count": 13,
   "metadata": {},
   "outputs": [
    {
     "data": {
      "image/png": "[encoded data removed]",
      "text/plain": [
       "<Figure size 864x288 with 1 Axes>"
      ]
     },
     "metadata": {},
     "output_type": "display_data"
    }
   ],
   "source": [
    "fig, ax = plt.subplots(1, 1, figsize=(12,4))\n",
    "sns.barplot(x='month', y='SessionStartTime', \n",
    "            data=df_sessions.groupby('month')['SessionStartTime'].count().reset_index(),\n",
    "            palette='colorblind', ax=ax)\n",
    "ax.set_ylabel('Access count')\n",
    "ax.set_xlabel('Month')\n",
    "months = ['January', 'February', 'March', 'April', 'May', 'June', 'July', \n",
    "          'August', 'September', 'October', 'November', 'December']\n",
    "ticks = ax.set_xticklabels(months, rotation=45)\n",
    "fig.tight_layout()\n",
    "plt.savefig('figures/question_4/access_month.eps', format='eps')"
   ]
  },
  {
   "cell_type": "markdown",
   "metadata": {},
   "source": [
    "### Acessos ao longo dos meses"
   ]
  },
  {
   "cell_type": "code",
   "execution_count": 58,
   "metadata": {},
   "outputs": [
    {
     "data": {
      "image/png": "[encoded data removed]",
      "text/plain": [
       "<Figure size 864x288 with 1 Axes>"
      ]
     },
     "metadata": {},
     "output_type": "display_data"
    }
   ],
   "source": [
    "fig, ax = plt.subplots(1, 1, figsize=(12,4))\n",
    "sns.barplot(x='year-month', y='SessionStartTime', \n",
    "            data=df_sessions.groupby('year-month', sort=False)['SessionStartTime'].count().reset_index(),\n",
    "            palette='colorblind', ax=ax)\n",
    "ax.set_ylabel('Access count')\n",
    "ax.set_xlabel('Year-month')\n",
    "ticks = ax.set_xticklabels(ax.get_xticklabels(), rotation=90, horizontalalignment='center')"
   ]
  },
  {
   "cell_type": "markdown",
   "metadata": {},
   "source": [
    "### Acessos por hora do dia"
   ]
  },
  {
   "cell_type": "code",
   "execution_count": 12,
   "metadata": {},
   "outputs": [
    {
     "data": {
      "image/png": "[encoded data removed]",
      "text/plain": [
       "<Figure size 864x288 with 1 Axes>"
      ]
     },
     "metadata": {},
     "output_type": "display_data"
    }
   ],
   "source": [
    "fig, ax = plt.subplots(1, 1, figsize=(12,4))\n",
    "sns.barplot(x='hour', y='SessionStartTime', \n",
    "            data=df_sessions.groupby('hour', sort=False)['SessionStartTime'].count().reset_index(),\n",
    "            palette='colorblind', ax=ax)\n",
    "ax.set_ylabel('Access count')\n",
    "ax.set_xlabel('Hour of the day')\n",
    "fig.tight_layout()\n",
    "plt.savefig('figures/question_4/access_hour.eps', format='eps')"
   ]
  }
 ],
 "metadata": {
  "kernelspec": {
   "display_name": "Python 3",
   "language": "python",
   "name": "python3"
  },
  "language_info": {
   "codemirror_mode": {
    "name": "ipython",
    "version": 3
   },
   "file_extension": ".py",
   "mimetype": "text/x-python",
   "name": "python",
   "nbconvert_exporter": "python",
   "pygments_lexer": "ipython3",
   "version": "3.7.6"
  },
  "pycharm": {
   "stem_cell": {
    "cell_type": "raw",
    "metadata": {
     "collapsed": false
    },
    "source": []
   }
  }
 },
 "nbformat": 4,
 "nbformat_minor": 1
}
