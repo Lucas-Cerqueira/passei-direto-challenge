{
 "cells": [
  {
   "cell_type": "code",
   "execution_count": 1,
   "metadata": {},
   "outputs": [],
   "source": [
    "import pandas as pd\n",
    "import numpy as np"
   ]
  },
  {
   "cell_type": "markdown",
   "metadata": {},
   "source": [
    "## Carregando os dados"
   ]
  },
  {
   "cell_type": "markdown",
   "metadata": {},
   "source": [
    "### Informações sobre os estudates"
   ]
  },
  {
   "cell_type": "code",
   "execution_count": 2,
   "metadata": {},
   "outputs": [
    {
     "data": {
      "text/html": [
       "<div>\n",
       "<style scoped>\n",
       "    .dataframe tbody tr th:only-of-type {\n",
       "        vertical-align: middle;\n",
       "    }\n",
       "\n",
       "    .dataframe tbody tr th {\n",
       "        vertical-align: top;\n",
       "    }\n",
       "\n",
       "    .dataframe thead th {\n",
       "        text-align: right;\n",
       "    }\n",
       "</style>\n",
       "<table border=\"1\" class=\"dataframe\">\n",
       "  <thead>\n",
       "    <tr style=\"text-align: right;\">\n",
       "      <th></th>\n",
       "      <th>Id</th>\n",
       "      <th>RegisteredDate</th>\n",
       "      <th>UniversityName</th>\n",
       "      <th>CourseName</th>\n",
       "      <th>State</th>\n",
       "      <th>SignupSource</th>\n",
       "      <th>City</th>\n",
       "      <th>StudentClient</th>\n",
       "    </tr>\n",
       "  </thead>\n",
       "  <tbody>\n",
       "    <tr>\n",
       "      <th>0</th>\n",
       "      <td>12970655</td>\n",
       "      <td>2012-05-29 15:22:27.490</td>\n",
       "      <td>PUC-RIO</td>\n",
       "      <td>Administração</td>\n",
       "      <td>Rio de Janeiro</td>\n",
       "      <td>Email</td>\n",
       "      <td>NaN</td>\n",
       "      <td>NaN</td>\n",
       "    </tr>\n",
       "    <tr>\n",
       "      <th>1</th>\n",
       "      <td>59873654</td>\n",
       "      <td>2012-09-03 20:32:04.853</td>\n",
       "      <td>UFF</td>\n",
       "      <td>Direito do Trabalho e Segurança Social</td>\n",
       "      <td>Rio de Janeiro</td>\n",
       "      <td>Facebook</td>\n",
       "      <td>Rio de Janeiro</td>\n",
       "      <td>NaN</td>\n",
       "    </tr>\n",
       "    <tr>\n",
       "      <th>2</th>\n",
       "      <td>3664695</td>\n",
       "      <td>2012-09-10 20:26:30.253</td>\n",
       "      <td>UNB</td>\n",
       "      <td>Enfermagem</td>\n",
       "      <td>Distrito Federal</td>\n",
       "      <td>Facebook</td>\n",
       "      <td>NaN</td>\n",
       "      <td>NaN</td>\n",
       "    </tr>\n",
       "    <tr>\n",
       "      <th>3</th>\n",
       "      <td>15207697</td>\n",
       "      <td>2012-09-05 15:31:08.090</td>\n",
       "      <td>UERJ</td>\n",
       "      <td>Engenharia de Produção Mecânica</td>\n",
       "      <td>Rio de Janeiro</td>\n",
       "      <td>Facebook</td>\n",
       "      <td>Resende</td>\n",
       "      <td>NaN</td>\n",
       "    </tr>\n",
       "    <tr>\n",
       "      <th>4</th>\n",
       "      <td>36988693</td>\n",
       "      <td>2012-10-15 21:34:51.143</td>\n",
       "      <td>UFU</td>\n",
       "      <td>Engenharia Elétrica</td>\n",
       "      <td>NaN</td>\n",
       "      <td>Facebook</td>\n",
       "      <td>NaN</td>\n",
       "      <td>NaN</td>\n",
       "    </tr>\n",
       "  </tbody>\n",
       "</table>\n",
       "</div>"
      ],
      "text/plain": [
       "         Id          RegisteredDate UniversityName  \\\n",
       "0  12970655 2012-05-29 15:22:27.490        PUC-RIO   \n",
       "1  59873654 2012-09-03 20:32:04.853            UFF   \n",
       "2   3664695 2012-09-10 20:26:30.253            UNB   \n",
       "3  15207697 2012-09-05 15:31:08.090           UERJ   \n",
       "4  36988693 2012-10-15 21:34:51.143            UFU   \n",
       "\n",
       "                               CourseName             State SignupSource  \\\n",
       "0                           Administração    Rio de Janeiro        Email   \n",
       "1  Direito do Trabalho e Segurança Social    Rio de Janeiro     Facebook   \n",
       "2                              Enfermagem  Distrito Federal     Facebook   \n",
       "3         Engenharia de Produção Mecânica    Rio de Janeiro     Facebook   \n",
       "4                     Engenharia Elétrica               NaN     Facebook   \n",
       "\n",
       "             City StudentClient  \n",
       "0             NaN           NaN  \n",
       "1  Rio de Janeiro           NaN  \n",
       "2             NaN           NaN  \n",
       "3         Resende           NaN  \n",
       "4             NaN           NaN  "
      ]
     },
     "execution_count": 2,
     "metadata": {},
     "output_type": "execute_result"
    }
   ],
   "source": [
    "df_students = pd.read_json('data/BASE B/students.json')\n",
    "df_students['RegisteredDate'] = pd.to_datetime(df_students['RegisteredDate'])\n",
    "df_students.head()"
   ]
  },
  {
   "cell_type": "markdown",
   "metadata": {},
   "source": [
    "### Informações sobre os cancelamentos"
   ]
  },
  {
   "cell_type": "code",
   "execution_count": 120,
   "metadata": {},
   "outputs": [
    {
     "data": {
      "text/html": [
       "<div>\n",
       "<style scoped>\n",
       "    .dataframe tbody tr th:only-of-type {\n",
       "        vertical-align: middle;\n",
       "    }\n",
       "\n",
       "    .dataframe tbody tr th {\n",
       "        vertical-align: top;\n",
       "    }\n",
       "\n",
       "    .dataframe thead th {\n",
       "        text-align: right;\n",
       "    }\n",
       "</style>\n",
       "<table border=\"1\" class=\"dataframe\">\n",
       "  <thead>\n",
       "    <tr style=\"text-align: right;\">\n",
       "      <th></th>\n",
       "      <th>StudentId</th>\n",
       "      <th>CancellationDate</th>\n",
       "      <th>year</th>\n",
       "      <th>month</th>\n",
       "      <th>day</th>\n",
       "    </tr>\n",
       "  </thead>\n",
       "  <tbody>\n",
       "    <tr>\n",
       "      <th>0</th>\n",
       "      <td>34129668</td>\n",
       "      <td>2016-05-05 19:08:31.937</td>\n",
       "      <td>2016</td>\n",
       "      <td>5</td>\n",
       "      <td>1</td>\n",
       "    </tr>\n",
       "    <tr>\n",
       "      <th>1</th>\n",
       "      <td>34129668</td>\n",
       "      <td>2016-05-05 22:48:20.830</td>\n",
       "      <td>2016</td>\n",
       "      <td>5</td>\n",
       "      <td>1</td>\n",
       "    </tr>\n",
       "    <tr>\n",
       "      <th>2</th>\n",
       "      <td>82394932</td>\n",
       "      <td>2016-05-20 22:37:21.117</td>\n",
       "      <td>2016</td>\n",
       "      <td>5</td>\n",
       "      <td>1</td>\n",
       "    </tr>\n",
       "    <tr>\n",
       "      <th>3</th>\n",
       "      <td>82942835</td>\n",
       "      <td>2016-05-31 13:44:55.307</td>\n",
       "      <td>2016</td>\n",
       "      <td>5</td>\n",
       "      <td>1</td>\n",
       "    </tr>\n",
       "    <tr>\n",
       "      <th>4</th>\n",
       "      <td>85382416</td>\n",
       "      <td>2016-06-01 14:22:19.467</td>\n",
       "      <td>2016</td>\n",
       "      <td>6</td>\n",
       "      <td>1</td>\n",
       "    </tr>\n",
       "  </tbody>\n",
       "</table>\n",
       "</div>"
      ],
      "text/plain": [
       "   StudentId        CancellationDate  year  month  day\n",
       "0   34129668 2016-05-05 19:08:31.937  2016      5    1\n",
       "1   34129668 2016-05-05 22:48:20.830  2016      5    1\n",
       "2   82394932 2016-05-20 22:37:21.117  2016      5    1\n",
       "3   82942835 2016-05-31 13:44:55.307  2016      5    1\n",
       "4   85382416 2016-06-01 14:22:19.467  2016      6    1"
      ]
     },
     "execution_count": 120,
     "metadata": {},
     "output_type": "execute_result"
    }
   ],
   "source": [
    "df_cancellations = pd.read_json('data/BASE B/premium_cancellations.json')\n",
    "df_cancellations['CancellationDate'] = pd.to_datetime(df_cancellations['CancellationDate'])\n",
    "df_cancellations['year'] = df_cancellations['CancellationDate'].dt.year\n",
    "df_cancellations['month'] = df_cancellations['CancellationDate'].dt.month\n",
    "df_cancellations.head()"
   ]
  },
  {
   "cell_type": "markdown",
   "metadata": {},
   "source": [
    "#### Cancelamentos de 2016-05 até 2018-06\n",
    "Como não sei se houve mais cancelamentos após 07/06/2018, vou limitar a análise até o fim do mês de maio/2018."
   ]
  },
  {
   "cell_type": "code",
   "execution_count": 176,
   "metadata": {},
   "outputs": [
    {
     "data": {
      "text/plain": [
       "count                            844\n",
       "unique                           844\n",
       "top       2018-03-26 21:00:21.361090\n",
       "freq                               1\n",
       "first     2016-05-05 19:08:31.937000\n",
       "last      2018-06-07 14:44:20.650220\n",
       "Name: CancellationDate, dtype: object"
      ]
     },
     "execution_count": 176,
     "metadata": {},
     "output_type": "execute_result"
    }
   ],
   "source": [
    "df_cancellations['CancellationDate'].describe()"
   ]
  },
  {
   "cell_type": "markdown",
   "metadata": {},
   "source": [
    "### Informações sobre as assinaturas do plano Premium"
   ]
  },
  {
   "cell_type": "code",
   "execution_count": 105,
   "metadata": {},
   "outputs": [
    {
     "name": "stderr",
     "output_type": "stream",
     "text": [
      "/home/lucas/miniconda3/envs/pdenv/lib/python3.7/site-packages/pandas/core/arrays/datetimelike.py:1151: PerformanceWarning: Adding/subtracting array of DateOffsets to DatetimeArray not vectorized\n",
      "  PerformanceWarning,\n"
     ]
    },
    {
     "name": "stdout",
     "output_type": "stream",
     "text": [
      "CPU times: user 500 ms, sys: 15.6 ms, total: 516 ms\n",
      "Wall time: 522 ms\n"
     ]
    },
    {
     "data": {
      "text/html": [
       "<div>\n",
       "<style scoped>\n",
       "    .dataframe tbody tr th:only-of-type {\n",
       "        vertical-align: middle;\n",
       "    }\n",
       "\n",
       "    .dataframe tbody tr th {\n",
       "        vertical-align: top;\n",
       "    }\n",
       "\n",
       "    .dataframe thead th {\n",
       "        text-align: right;\n",
       "    }\n",
       "</style>\n",
       "<table border=\"1\" class=\"dataframe\">\n",
       "  <thead>\n",
       "    <tr style=\"text-align: right;\">\n",
       "      <th></th>\n",
       "      <th>StudentId</th>\n",
       "      <th>PaymentDate</th>\n",
       "      <th>PlanType</th>\n",
       "      <th>PlanDuration</th>\n",
       "      <th>ExpiryDate</th>\n",
       "    </tr>\n",
       "  </thead>\n",
       "  <tbody>\n",
       "    <tr>\n",
       "      <th>0</th>\n",
       "      <td>12970655</td>\n",
       "      <td>2017-05-26 22:25:03.000</td>\n",
       "      <td>Anual</td>\n",
       "      <td>&lt;DateOffset: years=1&gt;</td>\n",
       "      <td>2018-05-26 22:25:03.000</td>\n",
       "    </tr>\n",
       "    <tr>\n",
       "      <th>1</th>\n",
       "      <td>12970655</td>\n",
       "      <td>2018-05-26 10:05:28.000</td>\n",
       "      <td>Anual</td>\n",
       "      <td>&lt;DateOffset: years=1&gt;</td>\n",
       "      <td>2019-05-26 10:05:28.000</td>\n",
       "    </tr>\n",
       "    <tr>\n",
       "      <th>2</th>\n",
       "      <td>12970655</td>\n",
       "      <td>2016-07-21 19:57:57.717</td>\n",
       "      <td>Mensal</td>\n",
       "      <td>&lt;DateOffset: months=1&gt;</td>\n",
       "      <td>2016-08-21 19:57:57.717</td>\n",
       "    </tr>\n",
       "    <tr>\n",
       "      <th>3</th>\n",
       "      <td>12970655</td>\n",
       "      <td>2016-08-21 08:47:42.947</td>\n",
       "      <td>Mensal</td>\n",
       "      <td>&lt;DateOffset: months=1&gt;</td>\n",
       "      <td>2016-09-21 08:47:42.947</td>\n",
       "    </tr>\n",
       "    <tr>\n",
       "      <th>4</th>\n",
       "      <td>12970655</td>\n",
       "      <td>2016-09-21 08:54:06.270</td>\n",
       "      <td>Mensal</td>\n",
       "      <td>&lt;DateOffset: months=1&gt;</td>\n",
       "      <td>2016-10-21 08:54:06.270</td>\n",
       "    </tr>\n",
       "  </tbody>\n",
       "</table>\n",
       "</div>"
      ],
      "text/plain": [
       "   StudentId             PaymentDate PlanType            PlanDuration  \\\n",
       "0   12970655 2017-05-26 22:25:03.000    Anual   <DateOffset: years=1>   \n",
       "1   12970655 2018-05-26 10:05:28.000    Anual   <DateOffset: years=1>   \n",
       "2   12970655 2016-07-21 19:57:57.717   Mensal  <DateOffset: months=1>   \n",
       "3   12970655 2016-08-21 08:47:42.947   Mensal  <DateOffset: months=1>   \n",
       "4   12970655 2016-09-21 08:54:06.270   Mensal  <DateOffset: months=1>   \n",
       "\n",
       "               ExpiryDate  \n",
       "0 2018-05-26 22:25:03.000  \n",
       "1 2019-05-26 10:05:28.000  \n",
       "2 2016-08-21 19:57:57.717  \n",
       "3 2016-09-21 08:47:42.947  \n",
       "4 2016-10-21 08:54:06.270  "
      ]
     },
     "execution_count": 105,
     "metadata": {},
     "output_type": "execute_result"
    }
   ],
   "source": [
    "%%time\n",
    "df_payments = pd.read_json('data/BASE B/premium_payments.json')\n",
    "df_payments['PaymentDate'] = pd.to_datetime(df_payments['PaymentDate'])\n",
    "\n",
    "df_payments['PlanDuration'] = pd.DateOffset(months=1)\n",
    "df_payments.loc[df_payments['PlanType'] == 'Anual', 'PlanDuration'] = pd.DateOffset(years=1)\n",
    "\n",
    "df_payments['ExpiryDate'] = df_payments['PaymentDate'] + df_payments['PlanDuration']\n",
    "\n",
    "df_payments.head()"
   ]
  },
  {
   "cell_type": "markdown",
   "metadata": {},
   "source": [
    "### Assinaturas válidas no começo de cada mês"
   ]
  },
  {
   "cell_type": "code",
   "execution_count": 177,
   "metadata": {},
   "outputs": [
    {
     "data": {
      "text/plain": [
       "2016-05-01      17\n",
       "2016-06-01      24\n",
       "2016-07-01      29\n",
       "2016-08-01      38\n",
       "2016-09-01      37\n",
       "2016-10-01      39\n",
       "2016-11-01      55\n",
       "2016-12-01      82\n",
       "2017-01-01      83\n",
       "2017-02-01      73\n",
       "2017-03-01      76\n",
       "2017-04-01     123\n",
       "2017-05-01     161\n",
       "2017-06-01     187\n",
       "2017-07-01     237\n",
       "2017-08-01     213\n",
       "2017-09-01     221\n",
       "2017-10-01     289\n",
       "2017-11-01     397\n",
       "2017-12-01    1150\n",
       "2018-01-01     974\n",
       "2018-02-01     786\n",
       "2018-03-01     707\n",
       "2018-04-01     754\n",
       "2018-05-01     948\n",
       "Freq: MS, dtype: int64"
      ]
     },
     "execution_count": 177,
     "metadata": {},
     "output_type": "execute_result"
    }
   ],
   "source": [
    "date_range = pd.date_range('2016-05-01', '2018-05-01', freq='MS')\n",
    "df_amount_subscriptions = pd.Series([\n",
    "    ((df_payments['ExpiryDate'] >= date) & (df_payments['PaymentDate'] < date)).sum() for date in date_range\n",
    "],  index=date_range)\n",
    "df_amount_subscriptions"
   ]
  },
  {
   "cell_type": "markdown",
   "metadata": {},
   "source": [
    "### Cancelamentos por mês"
   ]
  },
  {
   "cell_type": "code",
   "execution_count": 179,
   "metadata": {},
   "outputs": [
    {
     "data": {
      "text/plain": [
       "2016-05-01      4.0\n",
       "2016-06-01      2.0\n",
       "2016-07-01      5.0\n",
       "2016-08-01      0.0\n",
       "2016-09-01      2.0\n",
       "2016-10-01      7.0\n",
       "2016-11-01      7.0\n",
       "2016-12-01      7.0\n",
       "2017-01-01      4.0\n",
       "2017-02-01      4.0\n",
       "2017-03-01      6.0\n",
       "2017-04-01      9.0\n",
       "2017-05-01      9.0\n",
       "2017-06-01     28.0\n",
       "2017-07-01     25.0\n",
       "2017-08-01     17.0\n",
       "2017-09-01     19.0\n",
       "2017-10-01     25.0\n",
       "2017-11-01    117.0\n",
       "2017-12-01    182.0\n",
       "2018-01-01     98.0\n",
       "2018-02-01     55.0\n",
       "2018-03-01     57.0\n",
       "2018-04-01     44.0\n",
       "2018-05-01     89.0\n",
       "Freq: MS, Name: CancellationDate, dtype: float64"
      ]
     },
     "execution_count": 179,
     "metadata": {},
     "output_type": "execute_result"
    }
   ],
   "source": [
    "df_cancel_by_month = df_cancellations.groupby(['year', 'month'])['CancellationDate'].count().reset_index()\n",
    "df_cancel_by_month['day'] = 1 # just to align with the previous calculation's axis\n",
    "df_cancel_by_month.index = pd.to_datetime(df_cancel_by_month[['year', 'month', 'day']])\n",
    "df_cancel_by_month = df_cancel_by_month['CancellationDate'].asfreq('MS').fillna(0)[:'2018-05-01']\n",
    "df_cancel_by_month"
   ]
  },
  {
   "cell_type": "markdown",
   "metadata": {},
   "source": [
    "### Churn Rate\n",
    "Observa-se um aumento no pedido de cancelamentos no mês de novembro/2017 com a implementação do *Content Restriction*. Porém, de dezembro/2017 em diante, a quantidade de assinaturas aumentou consideravelmente e trouxe o *churn rate* para o patamar anterior à essa mudança, entre 5% e 15%."
   ]
  },
  {
   "cell_type": "code",
   "execution_count": 241,
   "metadata": {},
   "outputs": [
    {
     "data": {
      "image/png": "[encoded data removed]",
      "text/plain": [
       "<Figure size 576x288 with 1 Axes>"
      ]
     },
     "metadata": {
      "needs_background": "light"
     },
     "output_type": "display_data"
    }
   ],
   "source": [
    "churn_rate = df_cancel_by_month / df_amount_subscriptions\n",
    "ax = churn_rate.plot(kind='bar', figsize=(8,4))\n",
    "ax.grid(True, axis='y')"
   ]
  },
  {
   "cell_type": "markdown",
   "metadata": {},
   "source": [
    "## Lifetime Value (LTV)\n",
    "Considerando o valor médio de R$29.90 mensais, observa-se uma queda expressiva do LTV no mês de Nov/2017. Contudo, o LTV foi restabelicido rapidamente com o aumento das assinaturas. \n",
    "\n",
    "Essa análise, porém, pode conter inconsistências com os valores reais devido a possíveis reajustes que ocorreram ao longo do tempo no preço da assinatura. Além disso, para uma análise mais precisa, a diferença entre os valores pagos pelos planos anual e mensal deveria ser considerada."
   ]
  },
  {
   "cell_type": "code",
   "execution_count": 242,
   "metadata": {
    "scrolled": false
   },
   "outputs": [
    {
     "data": {
      "image/png": "[encoded data removed]",
      "text/plain": [
       "<Figure size 576x288 with 1 Axes>"
      ]
     },
     "metadata": {
      "needs_background": "light"
     },
     "output_type": "display_data"
    }
   ],
   "source": [
    "ltv = 29.9 / churn_rate\n",
    "ax = ltv.plot(kind='bar', figsize=(8,4))\n",
    "ax.axvline(18, color='r', linestyle='--', alpha=0.5) # Vertical line on Nov/2017\n",
    "ax.grid(True, axis='y')"
   ]
  },
  {
   "cell_type": "markdown",
   "metadata": {},
   "source": [
    "### LTV médio em 2017 antes de Nov/2017"
   ]
  },
  {
   "cell_type": "code",
   "execution_count": 239,
   "metadata": {},
   "outputs": [
    {
     "name": "stdout",
     "output_type": "stream",
     "text": [
      "R$403.95\n"
     ]
    }
   ],
   "source": [
    "print(f'R${ltv[\"2017-01-01\":\"2017-10-01\"].mean().round(2)}')"
   ]
  },
  {
   "cell_type": "markdown",
   "metadata": {},
   "source": [
    "### LTV médio após Nov/2017"
   ]
  },
  {
   "cell_type": "code",
   "execution_count": 203,
   "metadata": {},
   "outputs": [
    {
     "name": "stdout",
     "output_type": "stream",
     "text": [
      "R$352.52\n"
     ]
    }
   ],
   "source": [
    "print(f'R${ltv[\"2017-12-01\":].mean().round(2)}')"
   ]
  }
 ],
 "metadata": {
  "kernelspec": {
   "display_name": "Python 3",
   "language": "python",
   "name": "python3"
  },
  "language_info": {
   "codemirror_mode": {
    "name": "ipython",
    "version": 3
   },
   "file_extension": ".py",
   "mimetype": "text/x-python",
   "name": "python",
   "nbconvert_exporter": "python",
   "pygments_lexer": "ipython3",
   "version": "3.7.6"
  },
  "pycharm": {
   "stem_cell": {
    "cell_type": "raw",
    "metadata": {
     "collapsed": false
    },
    "source": []
   }
  }
 },
 "nbformat": 4,
 "nbformat_minor": 1
}
