{
 "cells": [
  {
   "cell_type": "code",
   "execution_count": 22,
   "metadata": {},
   "outputs": [],
   "source": [
    "import pandas as pd\n",
    "import numpy as np\n",
    "import seaborn as sns\n",
    "import matplotlib.pyplot as plt\n",
    "from bs4 import BeautifulSoup\n",
    "import warnings\n",
    "\n",
    "sns.set(font_scale=1.3, \n",
    "        font='Calibri', \n",
    "        style=\"whitegrid\")"
   ]
  },
  {
   "cell_type": "markdown",
   "metadata": {},
   "source": [
    "## Carregando os dados"
   ]
  },
  {
   "cell_type": "markdown",
   "metadata": {},
   "source": [
    "### Dados sobre as questões feitas pelos usuários"
   ]
  },
  {
   "cell_type": "code",
   "execution_count": 3,
   "metadata": {},
   "outputs": [
    {
     "data": {
      "text/html": [
       "<div>\n",
       "<style scoped>\n",
       "    .dataframe tbody tr th:only-of-type {\n",
       "        vertical-align: middle;\n",
       "    }\n",
       "\n",
       "    .dataframe tbody tr th {\n",
       "        vertical-align: top;\n",
       "    }\n",
       "\n",
       "    .dataframe thead th {\n",
       "        text-align: right;\n",
       "    }\n",
       "</style>\n",
       "<table border=\"1\" class=\"dataframe\">\n",
       "  <thead>\n",
       "    <tr style=\"text-align: right;\">\n",
       "      <th></th>\n",
       "      <th>StudentId</th>\n",
       "      <th>QuestionDate</th>\n",
       "      <th>QuestionSnippet</th>\n",
       "      <th>StudentClient</th>\n",
       "    </tr>\n",
       "  </thead>\n",
       "  <tbody>\n",
       "    <tr>\n",
       "      <th>0</th>\n",
       "      <td>12970655</td>\n",
       "      <td>2013-09-04 14:09:25.963</td>\n",
       "      <td>O que é mais importante para um projeto: escop...</td>\n",
       "      <td>NaN</td>\n",
       "    </tr>\n",
       "    <tr>\n",
       "      <th>1</th>\n",
       "      <td>12970655</td>\n",
       "      <td>2013-09-04 15:36:51.083</td>\n",
       "      <td>Você pode ter um negócio/produto bem sucedido ...</td>\n",
       "      <td>NaN</td>\n",
       "    </tr>\n",
       "    <tr>\n",
       "      <th>2</th>\n",
       "      <td>12970655</td>\n",
       "      <td>2013-10-30 19:41:43.137</td>\n",
       "      <td>Custos com consultoria para planejar um projet...</td>\n",
       "      <td>NaN</td>\n",
       "    </tr>\n",
       "    <tr>\n",
       "      <th>3</th>\n",
       "      <td>12970655</td>\n",
       "      <td>2013-10-30 19:19:15.517</td>\n",
       "      <td>CAPEX: investimento em consultoria entra como ...</td>\n",
       "      <td>NaN</td>\n",
       "    </tr>\n",
       "    <tr>\n",
       "      <th>4</th>\n",
       "      <td>12970655</td>\n",
       "      <td>2013-10-30 19:38:06.420</td>\n",
       "      <td>Custos com consultoria para planejar um projet...</td>\n",
       "      <td>NaN</td>\n",
       "    </tr>\n",
       "  </tbody>\n",
       "</table>\n",
       "</div>"
      ],
      "text/plain": [
       "   StudentId            QuestionDate  \\\n",
       "0   12970655 2013-09-04 14:09:25.963   \n",
       "1   12970655 2013-09-04 15:36:51.083   \n",
       "2   12970655 2013-10-30 19:41:43.137   \n",
       "3   12970655 2013-10-30 19:19:15.517   \n",
       "4   12970655 2013-10-30 19:38:06.420   \n",
       "\n",
       "                                     QuestionSnippet StudentClient  \n",
       "0  O que é mais importante para um projeto: escop...           NaN  \n",
       "1  Você pode ter um negócio/produto bem sucedido ...           NaN  \n",
       "2  Custos com consultoria para planejar um projet...           NaN  \n",
       "3  CAPEX: investimento em consultoria entra como ...           NaN  \n",
       "4  Custos com consultoria para planejar um projet...           NaN  "
      ]
     },
     "execution_count": 3,
     "metadata": {},
     "output_type": "execute_result"
    }
   ],
   "source": [
    "df_questions = pd.read_json('data/BASE B/questions.json')\n",
    "df_questions['QuestionDate'] = pd.to_datetime(df_questions['QuestionDate'])\n",
    "df_questions.head()"
   ]
  },
  {
   "cell_type": "code",
   "execution_count": 21,
   "metadata": {},
   "outputs": [
    {
     "data": {
      "text/plain": [
       "StudentId\n",
       "36619758    78\n",
       "52684890    76\n",
       "53791397    59\n",
       "2449655     45\n",
       "7308309     24\n",
       "            ..\n",
       "62490564     1\n",
       "62514900     1\n",
       "62543464     1\n",
       "62544540     1\n",
       "49918755     1\n",
       "Name: QuestionSnippet, Length: 2240, dtype: int64"
      ]
     },
     "execution_count": 21,
     "metadata": {},
     "output_type": "execute_result"
    }
   ],
   "source": [
    "df_questions.groupby(['StudentId'])['QuestionSnippet'].count().sort_values(ascending=False)"
   ]
  },
  {
   "cell_type": "code",
   "execution_count": 16,
   "metadata": {},
   "outputs": [
    {
     "data": {
      "text/plain": [
       "3202              tenho prova unopar Raciocínio lógico e matemático chama 32988499570\n",
       "3203                    prova unopar Raciocínio lógico e matemático chama 32988499570\n",
       "3204                                                         Prova unopar 32988499570\n",
       "3205                                                    prova unopar wsp 32 988499570\n",
       "3206          Raciocínio logico e matemático. prova da unopar  chama wsp 88 8136 2988\n",
       "                                            ...                                      \n",
       "3275    unopar provas formação integral em saúde hoje tenho prova chama (88)8136-2988\n",
       "3276      tenho prova formação integral em saúde hoje tenho prova chama (88)8136-2988\n",
       "3277                      ciência humana socais  hoje tenho prova chama (88)8136-2988\n",
       "3278                                                        prova unopar 43 9107-7084\n",
       "3279                              alunos interessado provas unopar chama 43 9107-7084\n",
       "Name: QuestionSnippet, Length: 78, dtype: object"
      ]
     },
     "execution_count": 16,
     "metadata": {},
     "output_type": "execute_result"
    }
   ],
   "source": [
    "pd.set_option('display.max_colwidth', 100)\n",
    "df_questions.query('StudentId == 36619758')['QuestionSnippet']"
   ]
  },
  {
   "cell_type": "markdown",
   "metadata": {},
   "source": [
    "### Dados sobre as respostas dadas pelos usuários\n",
    "Fazendo o parsing das respostas que vieram com elementos de HTML."
   ]
  },
  {
   "cell_type": "code",
   "execution_count": 6,
   "metadata": {},
   "outputs": [
    {
     "data": {
      "text/html": [
       "<div>\n",
       "<style scoped>\n",
       "    .dataframe tbody tr th:only-of-type {\n",
       "        vertical-align: middle;\n",
       "    }\n",
       "\n",
       "    .dataframe tbody tr th {\n",
       "        vertical-align: top;\n",
       "    }\n",
       "\n",
       "    .dataframe thead th {\n",
       "        text-align: right;\n",
       "    }\n",
       "</style>\n",
       "<table border=\"1\" class=\"dataframe\">\n",
       "  <thead>\n",
       "    <tr style=\"text-align: right;\">\n",
       "      <th></th>\n",
       "      <th>StudentId</th>\n",
       "      <th>AnswerDate</th>\n",
       "      <th>AnswerSnippet</th>\n",
       "      <th>StudentClient</th>\n",
       "    </tr>\n",
       "  </thead>\n",
       "  <tbody>\n",
       "    <tr>\n",
       "      <th>0</th>\n",
       "      <td>12970655</td>\n",
       "      <td>2013-08-30 12:27:57.190</td>\n",
       "      <td>Vou tentar simplificar ainda mais...&lt;str</td>\n",
       "      <td>NaN</td>\n",
       "    </tr>\n",
       "    <tr>\n",
       "      <th>1</th>\n",
       "      <td>12970655</td>\n",
       "      <td>2013-09-04 14:03:18.240</td>\n",
       "      <td>O centil divide algo em 100 partes. Cada centil é 1 parte das 100 partes.</td>\n",
       "      <td>NaN</td>\n",
       "    </tr>\n",
       "    <tr>\n",
       "      <th>2</th>\n",
       "      <td>12970655</td>\n",
       "      <td>2013-09-05 13:20:09.513</td>\n",
       "      <td>Ou será que o problema que esses produtos solucionam é o TÉDIO? =)</td>\n",
       "      <td>NaN</td>\n",
       "    </tr>\n",
       "    <tr>\n",
       "      <th>3</th>\n",
       "      <td>12970655</td>\n",
       "      <td>2013-09-04 19:01:56.357</td>\n",
       "      <td>Excelente pergunta! Abaixo estão as minhas lições em ordem de importân</td>\n",
       "      <td>NaN</td>\n",
       "    </tr>\n",
       "    <tr>\n",
       "      <th>4</th>\n",
       "      <td>12970655</td>\n",
       "      <td>2013-11-12 00:06:05.200</td>\n",
       "      <td>Vamos supor que você se compromete a comprar um imóvel de R$ 500.000 em 50 parcelas</td>\n",
       "      <td>NaN</td>\n",
       "    </tr>\n",
       "  </tbody>\n",
       "</table>\n",
       "</div>"
      ],
      "text/plain": [
       "   StudentId              AnswerDate  \\\n",
       "0   12970655 2013-08-30 12:27:57.190   \n",
       "1   12970655 2013-09-04 14:03:18.240   \n",
       "2   12970655 2013-09-05 13:20:09.513   \n",
       "3   12970655 2013-09-04 19:01:56.357   \n",
       "4   12970655 2013-11-12 00:06:05.200   \n",
       "\n",
       "                                                                          AnswerSnippet  \\\n",
       "0                                              Vou tentar simplificar ainda mais...<str   \n",
       "1             O centil divide algo em 100 partes. Cada centil é 1 parte das 100 partes.   \n",
       "2                    Ou será que o problema que esses produtos solucionam é o TÉDIO? =)   \n",
       "3                Excelente pergunta! Abaixo estão as minhas lições em ordem de importân   \n",
       "4  Vamos supor que você se compromete a comprar um imóvel de R$ 500.000 em 50 parcelas    \n",
       "\n",
       "  StudentClient  \n",
       "0           NaN  \n",
       "1           NaN  \n",
       "2           NaN  \n",
       "3           NaN  \n",
       "4           NaN  "
      ]
     },
     "execution_count": 6,
     "metadata": {},
     "output_type": "execute_result"
    }
   ],
   "source": [
    "df_answers = pd.read_json('data/BASE B/answers.json')\n",
    "df_answers['AnswerDate'] = pd.to_datetime(df_answers['AnswerDate'])\n",
    "\n",
    "# Supress warnings to run the BeautifulSoup to ignore URLs in the answers\n",
    "warnings.filterwarnings(\"ignore\", category=UserWarning, module='bs4')\n",
    "original_answers = df_answers['AnswerSnippet'].copy() # Creating a copy to show some stuff later\n",
    "df_answers['AnswerSnippet'] = df_answers['AnswerSnippet'].map(lambda x: BeautifulSoup(x).text.replace(\"\\n\", \"\"))\n",
    "warnings.resetwarnings()\n",
    "\n",
    "df_answers.head()"
   ]
  },
  {
   "cell_type": "markdown",
   "metadata": {},
   "source": [
    "#### Contagem de respostas por usuário"
   ]
  },
  {
   "cell_type": "code",
   "execution_count": 7,
   "metadata": {},
   "outputs": [
    {
     "data": {
      "text/plain": [
       "StudentId\n",
       "70700878    124\n",
       "52374651     67\n",
       "53791397     62\n",
       "78378179     56\n",
       "60827919     50\n",
       "           ... \n",
       "59300762      1\n",
       "59230582      1\n",
       "59133236      1\n",
       "59051854      1\n",
       "3546          1\n",
       "Name: AnswerSnippet, Length: 3068, dtype: int64"
      ]
     },
     "execution_count": 7,
     "metadata": {},
     "output_type": "execute_result"
    }
   ],
   "source": [
    "df_answers.groupby(['StudentId'])['AnswerSnippet'].count().sort_values(ascending=False)"
   ]
  },
  {
   "cell_type": "markdown",
   "metadata": {},
   "source": [
    "#### As 124 respostas me chamaram a atenção e esse aluno parece gostar bastante de postar vários links, inclusives externos ao PD\n",
    "Não sei se há algum tipo de filtro a esse tipo de conteúdo. Talvez esconder URLs externas ao domínio do PD ou, pelo menos, avisar ao usuário que ele está saindo do domínio e que a plataforma não se responsabiliza a partir desse ponto."
   ]
  },
  {
   "cell_type": "code",
   "execution_count": 8,
   "metadata": {},
   "outputs": [
    {
     "data": {
      "text/plain": [
       "650                                                                        para quem se interessa e\n",
       "651      aqui neste link tem mais de 300 livros para abaixar que vão te ajudar a tirar suas duvidas\n",
       "652    Neste link  https://mega.co.nz/#F!Ns4UkDCJ!Ep49t57YcQMIeoiIA6rdpQ tem genes VIII e genes XI \n",
       "653            neste link tem alguns livros de patologia que talvez possa te ajudar LINK https://me\n",
       "654                              neste link tem alguns livros de Hemato para vc abaixar   <a href=\"\n",
       "                                                   ...                                             \n",
       "769              neste link vc vai encontrar livros que vão te ajudar<a href=\"../../arquivo/1726254\n",
       "770              neste link vc vai encontrar livros que vão te ajudar<a href=\"../../arquivo/1726254\n",
       "771            neste link vc vai encontrar <a href=\"../../arquivo/17262543/sao-mais-350-livros-com-\n",
       "772              neste link vc vai encontrar livros que vão te ajudar<a href=\"../../arquivo/1726254\n",
       "773            use este https://www.passeidireto.com/arquivo/25183233/mais-de-600-livros-em-pdf-par\n",
       "Name: AnswerSnippet, Length: 124, dtype: object"
      ]
     },
     "execution_count": 8,
     "metadata": {},
     "output_type": "execute_result"
    }
   ],
   "source": [
    "pd.set_option('display.max_colwidth', 100)\n",
    "df_answers.query('StudentId == 70700878')['AnswerSnippet']"
   ]
  },
  {
   "cell_type": "markdown",
   "metadata": {},
   "source": [
    "#### Tamanho das respostas\n",
    "Os 100 caracteres são o limite para extrair o snippet, porém há respostas muito curtas que muito provavelmente não respondem à pergunta do usuário. Inclusive, algumas respostas são formadas apenas por caracteres especiais."
   ]
  },
  {
   "cell_type": "code",
   "execution_count": 20,
   "metadata": {},
   "outputs": [
    {
     "data": {
      "text/html": [
       "<div>\n",
       "<style scoped>\n",
       "    .dataframe tbody tr th:only-of-type {\n",
       "        vertical-align: middle;\n",
       "    }\n",
       "\n",
       "    .dataframe tbody tr th {\n",
       "        vertical-align: top;\n",
       "    }\n",
       "\n",
       "    .dataframe thead th {\n",
       "        text-align: right;\n",
       "    }\n",
       "</style>\n",
       "<table border=\"1\" class=\"dataframe\">\n",
       "  <thead>\n",
       "    <tr style=\"text-align: right;\">\n",
       "      <th></th>\n",
       "      <th>StudentId</th>\n",
       "      <th>AnswerDate</th>\n",
       "      <th>AnswerSnippet</th>\n",
       "      <th>StudentClient</th>\n",
       "    </tr>\n",
       "  </thead>\n",
       "  <tbody>\n",
       "    <tr>\n",
       "      <th>82</th>\n",
       "      <td>79626956</td>\n",
       "      <td>2017-11-29 10:42:54.641832</td>\n",
       "      <td>:)</td>\n",
       "      <td>Website</td>\n",
       "    </tr>\n",
       "    <tr>\n",
       "      <th>153</th>\n",
       "      <td>20863702</td>\n",
       "      <td>2015-08-26 17:12:22.370000</td>\n",
       "      <td>=\\</td>\n",
       "      <td>Website</td>\n",
       "    </tr>\n",
       "    <tr>\n",
       "      <th>217</th>\n",
       "      <td>28332695</td>\n",
       "      <td>2018-05-17 23:03:05.048545</td>\n",
       "      <td>..</td>\n",
       "      <td>Website</td>\n",
       "    </tr>\n",
       "    <tr>\n",
       "      <th>218</th>\n",
       "      <td>28332695</td>\n",
       "      <td>2018-05-17 23:03:10.142826</td>\n",
       "      <td>...</td>\n",
       "      <td>Website</td>\n",
       "    </tr>\n",
       "    <tr>\n",
       "      <th>219</th>\n",
       "      <td>28332695</td>\n",
       "      <td>2018-05-17 23:02:52.231273</td>\n",
       "      <td>..</td>\n",
       "      <td>Website</td>\n",
       "    </tr>\n",
       "    <tr>\n",
       "      <th>...</th>\n",
       "      <td>...</td>\n",
       "      <td>...</td>\n",
       "      <td>...</td>\n",
       "      <td>...</td>\n",
       "    </tr>\n",
       "    <tr>\n",
       "      <th>7408</th>\n",
       "      <td>10269728</td>\n",
       "      <td>2017-11-20 12:23:52.569639</td>\n",
       "      <td>.</td>\n",
       "      <td>Website</td>\n",
       "    </tr>\n",
       "    <tr>\n",
       "      <th>7446</th>\n",
       "      <td>61771473</td>\n",
       "      <td>2017-11-21 10:25:06.162337</td>\n",
       "      <td>...</td>\n",
       "      <td>Website</td>\n",
       "    </tr>\n",
       "    <tr>\n",
       "      <th>7479</th>\n",
       "      <td>50149742</td>\n",
       "      <td>2018-04-18 21:20:45.305708</td>\n",
       "      <td>?</td>\n",
       "      <td>Website</td>\n",
       "    </tr>\n",
       "    <tr>\n",
       "      <th>7510</th>\n",
       "      <td>56220010</td>\n",
       "      <td>2018-05-15 13:31:32.627070</td>\n",
       "      <td>?</td>\n",
       "      <td>Android | 7.0 | sdk 24</td>\n",
       "    </tr>\n",
       "    <tr>\n",
       "      <th>7511</th>\n",
       "      <td>81029016</td>\n",
       "      <td>2018-05-07 17:57:48.002312</td>\n",
       "      <td>!</td>\n",
       "      <td>Website</td>\n",
       "    </tr>\n",
       "  </tbody>\n",
       "</table>\n",
       "<p>105 rows × 4 columns</p>\n",
       "</div>"
      ],
      "text/plain": [
       "      StudentId                 AnswerDate AnswerSnippet  \\\n",
       "82     79626956 2017-11-29 10:42:54.641832            :)   \n",
       "153    20863702 2015-08-26 17:12:22.370000            =\\   \n",
       "217    28332695 2018-05-17 23:03:05.048545            ..   \n",
       "218    28332695 2018-05-17 23:03:10.142826           ...   \n",
       "219    28332695 2018-05-17 23:02:52.231273            ..   \n",
       "...         ...                        ...           ...   \n",
       "7408   10269728 2017-11-20 12:23:52.569639             .   \n",
       "7446   61771473 2017-11-21 10:25:06.162337           ...   \n",
       "7479   50149742 2018-04-18 21:20:45.305708             ?   \n",
       "7510   56220010 2018-05-15 13:31:32.627070             ?   \n",
       "7511   81029016 2018-05-07 17:57:48.002312             !   \n",
       "\n",
       "               StudentClient  \n",
       "82                   Website  \n",
       "153                  Website  \n",
       "217                  Website  \n",
       "218                  Website  \n",
       "219                  Website  \n",
       "...                      ...  \n",
       "7408                 Website  \n",
       "7446                 Website  \n",
       "7479                 Website  \n",
       "7510  Android | 7.0 | sdk 24  \n",
       "7511                 Website  \n",
       "\n",
       "[105 rows x 4 columns]"
      ]
     },
     "execution_count": 20,
     "metadata": {},
     "output_type": "execute_result"
    }
   ],
   "source": [
    "df_answers[df_answers['AnswerSnippet'].str.match(r'^[^a-zA-Z0-9]+$')]"
   ]
  },
  {
   "cell_type": "markdown",
   "metadata": {},
   "source": [
    "### Dados sobre os estudates"
   ]
  },
  {
   "cell_type": "code",
   "execution_count": 22,
   "metadata": {},
   "outputs": [
    {
     "data": {
      "text/html": [
       "<div>\n",
       "<style scoped>\n",
       "    .dataframe tbody tr th:only-of-type {\n",
       "        vertical-align: middle;\n",
       "    }\n",
       "\n",
       "    .dataframe tbody tr th {\n",
       "        vertical-align: top;\n",
       "    }\n",
       "\n",
       "    .dataframe thead th {\n",
       "        text-align: right;\n",
       "    }\n",
       "</style>\n",
       "<table border=\"1\" class=\"dataframe\">\n",
       "  <thead>\n",
       "    <tr style=\"text-align: right;\">\n",
       "      <th></th>\n",
       "      <th>Id</th>\n",
       "      <th>RegisteredDate</th>\n",
       "      <th>UniversityName</th>\n",
       "      <th>CourseName</th>\n",
       "      <th>State</th>\n",
       "      <th>SignupSource</th>\n",
       "      <th>City</th>\n",
       "      <th>StudentClient</th>\n",
       "    </tr>\n",
       "  </thead>\n",
       "  <tbody>\n",
       "    <tr>\n",
       "      <th>0</th>\n",
       "      <td>12970655</td>\n",
       "      <td>2012-05-29 15:22:27.490</td>\n",
       "      <td>PUC-RIO</td>\n",
       "      <td>Administração</td>\n",
       "      <td>Rio de Janeiro</td>\n",
       "      <td>Email</td>\n",
       "      <td>NaN</td>\n",
       "      <td>NaN</td>\n",
       "    </tr>\n",
       "    <tr>\n",
       "      <th>1</th>\n",
       "      <td>59873654</td>\n",
       "      <td>2012-09-03 20:32:04.853</td>\n",
       "      <td>UFF</td>\n",
       "      <td>Direito do Trabalho e Segurança Social</td>\n",
       "      <td>Rio de Janeiro</td>\n",
       "      <td>Facebook</td>\n",
       "      <td>Rio de Janeiro</td>\n",
       "      <td>NaN</td>\n",
       "    </tr>\n",
       "    <tr>\n",
       "      <th>2</th>\n",
       "      <td>3664695</td>\n",
       "      <td>2012-09-10 20:26:30.253</td>\n",
       "      <td>UNB</td>\n",
       "      <td>Enfermagem</td>\n",
       "      <td>Distrito Federal</td>\n",
       "      <td>Facebook</td>\n",
       "      <td>NaN</td>\n",
       "      <td>NaN</td>\n",
       "    </tr>\n",
       "    <tr>\n",
       "      <th>3</th>\n",
       "      <td>15207697</td>\n",
       "      <td>2012-09-05 15:31:08.090</td>\n",
       "      <td>UERJ</td>\n",
       "      <td>Engenharia de Produção Mecânica</td>\n",
       "      <td>Rio de Janeiro</td>\n",
       "      <td>Facebook</td>\n",
       "      <td>Resende</td>\n",
       "      <td>NaN</td>\n",
       "    </tr>\n",
       "    <tr>\n",
       "      <th>4</th>\n",
       "      <td>36988693</td>\n",
       "      <td>2012-10-15 21:34:51.143</td>\n",
       "      <td>UFU</td>\n",
       "      <td>Engenharia Elétrica</td>\n",
       "      <td>NaN</td>\n",
       "      <td>Facebook</td>\n",
       "      <td>NaN</td>\n",
       "      <td>NaN</td>\n",
       "    </tr>\n",
       "  </tbody>\n",
       "</table>\n",
       "</div>"
      ],
      "text/plain": [
       "         Id          RegisteredDate UniversityName  \\\n",
       "0  12970655 2012-05-29 15:22:27.490        PUC-RIO   \n",
       "1  59873654 2012-09-03 20:32:04.853            UFF   \n",
       "2   3664695 2012-09-10 20:26:30.253            UNB   \n",
       "3  15207697 2012-09-05 15:31:08.090           UERJ   \n",
       "4  36988693 2012-10-15 21:34:51.143            UFU   \n",
       "\n",
       "                               CourseName             State SignupSource  \\\n",
       "0                           Administração    Rio de Janeiro        Email   \n",
       "1  Direito do Trabalho e Segurança Social    Rio de Janeiro     Facebook   \n",
       "2                              Enfermagem  Distrito Federal     Facebook   \n",
       "3         Engenharia de Produção Mecânica    Rio de Janeiro     Facebook   \n",
       "4                     Engenharia Elétrica               NaN     Facebook   \n",
       "\n",
       "             City StudentClient  \n",
       "0             NaN           NaN  \n",
       "1  Rio de Janeiro           NaN  \n",
       "2             NaN           NaN  \n",
       "3         Resende           NaN  \n",
       "4             NaN           NaN  "
      ]
     },
     "execution_count": 22,
     "metadata": {},
     "output_type": "execute_result"
    }
   ],
   "source": [
    "df_students = pd.read_json('data/BASE B/students.json')\n",
    "df_students['RegisteredDate'] = pd.to_datetime(df_students['RegisteredDate'])\n",
    "df_students.head()"
   ]
  },
  {
   "cell_type": "code",
   "execution_count": 23,
   "metadata": {},
   "outputs": [
    {
     "data": {
      "text/plain": [
       "CourseName\n",
       "Direito                               9862\n",
       "Administração                         4099\n",
       "Engenharia Civil                      3585\n",
       "Contabilidade / Ciências Contábeis    2744\n",
       "Pedagogia                             2627\n",
       "Psicologia                            2155\n",
       "Enfermagem                            2054\n",
       "Medicina                              1656\n",
       "Fisioterapia                          1464\n",
       "Engenharia Mecânica                   1451\n",
       "Nutrição                              1297\n",
       "Farmácia / Ciências Farmacêuticas     1142\n",
       "Educação Física                       1076\n",
       "Engenharia de Produção                1053\n",
       "Odontologia                            985\n",
       "Engenharia Elétrica                    957\n",
       "Veterinária / Medicina Veterinária     890\n",
       "Biologia / Ciências Biológicas         753\n",
       "Arquitetura e Urbanismo                724\n",
       "Gestão de Recursos Humanos             645\n",
       "Name: Id, dtype: int64"
      ]
     },
     "execution_count": 23,
     "metadata": {},
     "output_type": "execute_result"
    }
   ],
   "source": [
    "df_students.groupby('CourseName')['Id'].count().sort_values(ascending=False).head(20)"
   ]
  },
  {
   "cell_type": "markdown",
   "metadata": {},
   "source": [
    "### Dados sobre os cancelamentos"
   ]
  },
  {
   "cell_type": "code",
   "execution_count": 120,
   "metadata": {},
   "outputs": [
    {
     "data": {
      "text/html": [
       "<div>\n",
       "<style scoped>\n",
       "    .dataframe tbody tr th:only-of-type {\n",
       "        vertical-align: middle;\n",
       "    }\n",
       "\n",
       "    .dataframe tbody tr th {\n",
       "        vertical-align: top;\n",
       "    }\n",
       "\n",
       "    .dataframe thead th {\n",
       "        text-align: right;\n",
       "    }\n",
       "</style>\n",
       "<table border=\"1\" class=\"dataframe\">\n",
       "  <thead>\n",
       "    <tr style=\"text-align: right;\">\n",
       "      <th></th>\n",
       "      <th>StudentId</th>\n",
       "      <th>CancellationDate</th>\n",
       "      <th>year</th>\n",
       "      <th>month</th>\n",
       "      <th>day</th>\n",
       "    </tr>\n",
       "  </thead>\n",
       "  <tbody>\n",
       "    <tr>\n",
       "      <th>0</th>\n",
       "      <td>34129668</td>\n",
       "      <td>2016-05-05 19:08:31.937</td>\n",
       "      <td>2016</td>\n",
       "      <td>5</td>\n",
       "      <td>1</td>\n",
       "    </tr>\n",
       "    <tr>\n",
       "      <th>1</th>\n",
       "      <td>34129668</td>\n",
       "      <td>2016-05-05 22:48:20.830</td>\n",
       "      <td>2016</td>\n",
       "      <td>5</td>\n",
       "      <td>1</td>\n",
       "    </tr>\n",
       "    <tr>\n",
       "      <th>2</th>\n",
       "      <td>82394932</td>\n",
       "      <td>2016-05-20 22:37:21.117</td>\n",
       "      <td>2016</td>\n",
       "      <td>5</td>\n",
       "      <td>1</td>\n",
       "    </tr>\n",
       "    <tr>\n",
       "      <th>3</th>\n",
       "      <td>82942835</td>\n",
       "      <td>2016-05-31 13:44:55.307</td>\n",
       "      <td>2016</td>\n",
       "      <td>5</td>\n",
       "      <td>1</td>\n",
       "    </tr>\n",
       "    <tr>\n",
       "      <th>4</th>\n",
       "      <td>85382416</td>\n",
       "      <td>2016-06-01 14:22:19.467</td>\n",
       "      <td>2016</td>\n",
       "      <td>6</td>\n",
       "      <td>1</td>\n",
       "    </tr>\n",
       "  </tbody>\n",
       "</table>\n",
       "</div>"
      ],
      "text/plain": [
       "   StudentId        CancellationDate  year  month  day\n",
       "0   34129668 2016-05-05 19:08:31.937  2016      5    1\n",
       "1   34129668 2016-05-05 22:48:20.830  2016      5    1\n",
       "2   82394932 2016-05-20 22:37:21.117  2016      5    1\n",
       "3   82942835 2016-05-31 13:44:55.307  2016      5    1\n",
       "4   85382416 2016-06-01 14:22:19.467  2016      6    1"
      ]
     },
     "execution_count": 120,
     "metadata": {},
     "output_type": "execute_result"
    }
   ],
   "source": [
    "df_cancellations = pd.read_json('data/BASE B/premium_cancellations.json')\n",
    "df_cancellations['CancellationDate'] = pd.to_datetime(df_cancellations['CancellationDate'])\n",
    "df_cancellations['year'] = df_cancellations['CancellationDate'].dt.year\n",
    "df_cancellations['month'] = df_cancellations['CancellationDate'].dt.month\n",
    "df_cancellations.head()"
   ]
  },
  {
   "cell_type": "markdown",
   "metadata": {},
   "source": [
    "### Dados sobre as assinaturas do plano Premium"
   ]
  },
  {
   "cell_type": "code",
   "execution_count": 105,
   "metadata": {},
   "outputs": [
    {
     "name": "stderr",
     "output_type": "stream",
     "text": [
      "/home/lucas/miniconda3/envs/pdenv/lib/python3.7/site-packages/pandas/core/arrays/datetimelike.py:1151: PerformanceWarning: Adding/subtracting array of DateOffsets to DatetimeArray not vectorized\n",
      "  PerformanceWarning,\n"
     ]
    },
    {
     "name": "stdout",
     "output_type": "stream",
     "text": [
      "CPU times: user 500 ms, sys: 15.6 ms, total: 516 ms\n",
      "Wall time: 522 ms\n"
     ]
    },
    {
     "data": {
      "text/html": [
       "<div>\n",
       "<style scoped>\n",
       "    .dataframe tbody tr th:only-of-type {\n",
       "        vertical-align: middle;\n",
       "    }\n",
       "\n",
       "    .dataframe tbody tr th {\n",
       "        vertical-align: top;\n",
       "    }\n",
       "\n",
       "    .dataframe thead th {\n",
       "        text-align: right;\n",
       "    }\n",
       "</style>\n",
       "<table border=\"1\" class=\"dataframe\">\n",
       "  <thead>\n",
       "    <tr style=\"text-align: right;\">\n",
       "      <th></th>\n",
       "      <th>StudentId</th>\n",
       "      <th>PaymentDate</th>\n",
       "      <th>PlanType</th>\n",
       "      <th>PlanDuration</th>\n",
       "      <th>ExpiryDate</th>\n",
       "    </tr>\n",
       "  </thead>\n",
       "  <tbody>\n",
       "    <tr>\n",
       "      <th>0</th>\n",
       "      <td>12970655</td>\n",
       "      <td>2017-05-26 22:25:03.000</td>\n",
       "      <td>Anual</td>\n",
       "      <td>&lt;DateOffset: years=1&gt;</td>\n",
       "      <td>2018-05-26 22:25:03.000</td>\n",
       "    </tr>\n",
       "    <tr>\n",
       "      <th>1</th>\n",
       "      <td>12970655</td>\n",
       "      <td>2018-05-26 10:05:28.000</td>\n",
       "      <td>Anual</td>\n",
       "      <td>&lt;DateOffset: years=1&gt;</td>\n",
       "      <td>2019-05-26 10:05:28.000</td>\n",
       "    </tr>\n",
       "    <tr>\n",
       "      <th>2</th>\n",
       "      <td>12970655</td>\n",
       "      <td>2016-07-21 19:57:57.717</td>\n",
       "      <td>Mensal</td>\n",
       "      <td>&lt;DateOffset: months=1&gt;</td>\n",
       "      <td>2016-08-21 19:57:57.717</td>\n",
       "    </tr>\n",
       "    <tr>\n",
       "      <th>3</th>\n",
       "      <td>12970655</td>\n",
       "      <td>2016-08-21 08:47:42.947</td>\n",
       "      <td>Mensal</td>\n",
       "      <td>&lt;DateOffset: months=1&gt;</td>\n",
       "      <td>2016-09-21 08:47:42.947</td>\n",
       "    </tr>\n",
       "    <tr>\n",
       "      <th>4</th>\n",
       "      <td>12970655</td>\n",
       "      <td>2016-09-21 08:54:06.270</td>\n",
       "      <td>Mensal</td>\n",
       "      <td>&lt;DateOffset: months=1&gt;</td>\n",
       "      <td>2016-10-21 08:54:06.270</td>\n",
       "    </tr>\n",
       "  </tbody>\n",
       "</table>\n",
       "</div>"
      ],
      "text/plain": [
       "   StudentId             PaymentDate PlanType            PlanDuration  \\\n",
       "0   12970655 2017-05-26 22:25:03.000    Anual   <DateOffset: years=1>   \n",
       "1   12970655 2018-05-26 10:05:28.000    Anual   <DateOffset: years=1>   \n",
       "2   12970655 2016-07-21 19:57:57.717   Mensal  <DateOffset: months=1>   \n",
       "3   12970655 2016-08-21 08:47:42.947   Mensal  <DateOffset: months=1>   \n",
       "4   12970655 2016-09-21 08:54:06.270   Mensal  <DateOffset: months=1>   \n",
       "\n",
       "               ExpiryDate  \n",
       "0 2018-05-26 22:25:03.000  \n",
       "1 2019-05-26 10:05:28.000  \n",
       "2 2016-08-21 19:57:57.717  \n",
       "3 2016-09-21 08:47:42.947  \n",
       "4 2016-10-21 08:54:06.270  "
      ]
     },
     "execution_count": 105,
     "metadata": {},
     "output_type": "execute_result"
    }
   ],
   "source": [
    "df_payments = pd.read_json('data/BASE B/premium_payments.json')\n",
    "df_payments['PaymentDate'] = pd.to_datetime(df_payments['PaymentDate'])\n",
    "\n",
    "df_payments['PlanDuration'] = pd.DateOffset(months=1)\n",
    "df_payments.loc[df_payments['PlanType'] == 'Anual', 'PlanDuration'] = pd.DateOffset(years=1)\n",
    "\n",
    "df_payments['ExpiryDate'] = df_payments['PaymentDate'] + df_payments['PlanDuration']\n",
    "\n",
    "df_payments.head()"
   ]
  },
  {
   "cell_type": "markdown",
   "metadata": {},
   "source": [
    "### Dados sobre as sessões"
   ]
  },
  {
   "cell_type": "code",
   "execution_count": 51,
   "metadata": {},
   "outputs": [
    {
     "data": {
      "text/html": [
       "<div>\n",
       "<style scoped>\n",
       "    .dataframe tbody tr th:only-of-type {\n",
       "        vertical-align: middle;\n",
       "    }\n",
       "\n",
       "    .dataframe tbody tr th {\n",
       "        vertical-align: top;\n",
       "    }\n",
       "\n",
       "    .dataframe thead th {\n",
       "        text-align: right;\n",
       "    }\n",
       "</style>\n",
       "<table border=\"1\" class=\"dataframe\">\n",
       "  <thead>\n",
       "    <tr style=\"text-align: right;\">\n",
       "      <th></th>\n",
       "      <th>StudentId</th>\n",
       "      <th>SessionStartTime</th>\n",
       "      <th>StudentClient</th>\n",
       "    </tr>\n",
       "  </thead>\n",
       "  <tbody>\n",
       "    <tr>\n",
       "      <th>205146</th>\n",
       "      <td>82394932</td>\n",
       "      <td>2017-02-07 17:46:00</td>\n",
       "      <td>Website</td>\n",
       "    </tr>\n",
       "    <tr>\n",
       "      <th>205147</th>\n",
       "      <td>82394932</td>\n",
       "      <td>2017-02-07 17:53:33</td>\n",
       "      <td>Website</td>\n",
       "    </tr>\n",
       "    <tr>\n",
       "      <th>615932</th>\n",
       "      <td>32938466</td>\n",
       "      <td>2017-02-08 11:42:47</td>\n",
       "      <td>Website</td>\n",
       "    </tr>\n",
       "    <tr>\n",
       "      <th>4326</th>\n",
       "      <td>59828530</td>\n",
       "      <td>2017-02-08 11:46:22</td>\n",
       "      <td>Website</td>\n",
       "    </tr>\n",
       "    <tr>\n",
       "      <th>87112</th>\n",
       "      <td>51668081</td>\n",
       "      <td>2017-02-08 11:48:08</td>\n",
       "      <td>Website</td>\n",
       "    </tr>\n",
       "  </tbody>\n",
       "</table>\n",
       "</div>"
      ],
      "text/plain": [
       "        StudentId    SessionStartTime StudentClient\n",
       "205146   82394932 2017-02-07 17:46:00       Website\n",
       "205147   82394932 2017-02-07 17:53:33       Website\n",
       "615932   32938466 2017-02-08 11:42:47       Website\n",
       "4326     59828530 2017-02-08 11:46:22       Website\n",
       "87112    51668081 2017-02-08 11:48:08       Website"
      ]
     },
     "execution_count": 51,
     "metadata": {},
     "output_type": "execute_result"
    }
   ],
   "source": [
    "df_sessions = pd.read_json('data/BASE B/sessions.json')\n",
    "df_sessions['SessionStartTime'] = pd.to_datetime(df_sessions['SessionStartTime'])\n",
    "df_sessions.sort_values('SessionStartTime', inplace=True)\n",
    "df_sessions.head()"
   ]
  },
  {
   "cell_type": "code",
   "execution_count": 52,
   "metadata": {},
   "outputs": [],
   "source": [
    "df_sessions['year'] = df_sessions.SessionStartTime.dt.year\n",
    "df_sessions['month'] = df_sessions.SessionStartTime.dt.month\n",
    "df_sessions['year-month'] = df_sessions['year'].astype(str) + '-' + df_sessions['month'].astype(str)\n",
    "\n",
    "df_sessions['day'] = df_sessions.SessionStartTime.dt.day\n",
    "df_sessions['hour'] = df_sessions.SessionStartTime.dt.hour\n",
    "\n",
    "df_sessions['weekday'] = df_sessions.SessionStartTime.dt.weekday\n",
    "weekdays = ['Monday', 'Tuesday', 'Wednesday', 'Thursday', 'Friday', 'Saturday', 'Sunday']\n",
    "df_sessions['weekday'] = df_sessions['weekday'].map(lambda x: weekdays[x])"
   ]
  },
  {
   "cell_type": "code",
   "execution_count": 70,
   "metadata": {},
   "outputs": [
    {
     "data": {
      "image/png": "[encoded data removed]",
      "text/plain": [
       "<Figure size 576x288 with 1 Axes>"
      ]
     },
     "metadata": {},
     "output_type": "display_data"
    }
   ],
   "source": [
    "fig, ax = plt.subplots(1, 1, figsize=(8,4))\n",
    "sns.barplot(x='weekday', y='SessionStartTime', \n",
    "            data=df_sessions.groupby('weekday')['SessionStartTime'].count()[weekdays].reset_index(),\n",
    "            palette='colorblind', ax=ax)\n",
    "ax.set_ylabel('Access count')\n",
    "ax.set_xlabel('Week day')\n",
    "ticks = ax.set_xticklabels(weekdays, rotation=45)"
   ]
  },
  {
   "cell_type": "code",
   "execution_count": 31,
   "metadata": {},
   "outputs": [
    {
     "data": {
      "image/png": "[encoded data removed]",
      "text/plain": [
       "<Figure size 576x288 with 1 Axes>"
      ]
     },
     "metadata": {},
     "output_type": "display_data"
    }
   ],
   "source": [
    "fig, ax = plt.subplots(1, 1, figsize=(8,4))\n",
    "sns.barplot(x='month', y='SessionStartTime', \n",
    "            data=df_sessions.groupby('month')['SessionStartTime'].count().reset_index(),\n",
    "            palette='colorblind', ax=ax)\n",
    "ax.set_ylabel('Access count')\n",
    "ax.set_xlabel('Month')\n",
    "months = ['January', 'February', 'March', 'April', 'May', 'June', 'July', \n",
    "          'August', 'September', 'October', 'November', 'December']\n",
    "ticks = ax.set_xticklabels(months, rotation=45)"
   ]
  },
  {
   "cell_type": "code",
   "execution_count": 63,
   "metadata": {},
   "outputs": [
    {
     "data": {
      "image/png": "[encoded data removed]",
      "text/plain": [
       "<Figure size 576x288 with 1 Axes>"
      ]
     },
     "metadata": {},
     "output_type": "display_data"
    }
   ],
   "source": [
    "fig, ax = plt.subplots(1, 1, figsize=(8,4))\n",
    "sns.barplot(x='year-month', y='SessionStartTime', \n",
    "            data=df_sessions.groupby('year-month', sort=False)['SessionStartTime'].count().reset_index(),\n",
    "            palette='colorblind', ax=ax)\n",
    "ax.set_ylabel('Access count')\n",
    "ax.set_xlabel('Year-month')\n",
    "ticks = ax.set_xticklabels(ax.get_xticklabels(), rotation=90, horizontalalignment='center')"
   ]
  },
  {
   "cell_type": "code",
   "execution_count": 67,
   "metadata": {},
   "outputs": [
    {
     "data": {
      "image/png": "[encoded data removed]",
      "text/plain": [
       "<Figure size 864x288 with 1 Axes>"
      ]
     },
     "metadata": {},
     "output_type": "display_data"
    }
   ],
   "source": [
    "fig, ax = plt.subplots(1, 1, figsize=(12,4))\n",
    "sns.barplot(x='hour', y='SessionStartTime', \n",
    "            data=df_sessions.groupby('hour', sort=False)['SessionStartTime'].count().reset_index(),\n",
    "            palette='colorblind', ax=ax)\n",
    "ax.set_ylabel('Access count')\n",
    "ax.set_xlabel('Hour of the day')"
   ]
  },
  {
   "cell_type": "code",
   "execution_count": 72,
   "metadata": {},
   "outputs": [
    {
     "data": {
      "text/plain": [
       "Text(0.5, 0, 'Platform of access')"
      ]
     },
     "execution_count": 72,
     "metadata": {},
     "output_type": "execute_result"
    },
    {
     "data": {
      "image/png": "[encoded data removed]",
      "text/plain": [
       "<Figure size 864x288 with 1 Axes>"
      ]
     },
     "metadata": {},
     "output_type": "display_data"
    }
   ],
   "source": [
    "fig, ax = plt.subplots(1, 1, figsize=(12,4))\n",
    "sns.barplot(x='StudentClient', y='SessionStartTime', \n",
    "            data=df_sessions.groupby('StudentClient', sort=False)['SessionStartTime'].count().reset_index(),\n",
    "            palette='colorblind', ax=ax)\n",
    "ax.set_ylabel('Access count')\n",
    "ax.set_xlabel('Platform of access')"
   ]
  },
  {
   "cell_type": "code",
   "execution_count": 71,
   "metadata": {},
   "outputs": [],
   "source": [
    "before_content_restr = df_sessions.query('\"2017-05-01\" < SessionStartTime < \"2017-11-01\"')\n",
    "after_content_restr = df_sessions.query('SessionStartTime >= \"2017-12-01\"')"
   ]
  },
  {
   "cell_type": "code",
   "execution_count": 73,
   "metadata": {},
   "outputs": [
    {
     "data": {
      "text/plain": [
       "count                  573123\n",
       "unique                 551773\n",
       "top       2017-08-10 18:39:53\n",
       "freq                        7\n",
       "first     2017-05-01 00:01:44\n",
       "last      2017-10-31 23:59:48\n",
       "Name: SessionStartTime, dtype: object"
      ]
     },
     "execution_count": 73,
     "metadata": {},
     "output_type": "execute_result"
    }
   ],
   "source": [
    "before_content_restr.SessionStartTime.describe()"
   ]
  },
  {
   "cell_type": "code",
   "execution_count": 74,
   "metadata": {},
   "outputs": [
    {
     "data": {
      "text/plain": [
       "count    42394.000000\n",
       "mean        13.518965\n",
       "std         21.112950\n",
       "min          1.000000\n",
       "25%          3.000000\n",
       "50%          7.000000\n",
       "75%         16.000000\n",
       "max       1012.000000\n",
       "Name: StudentClient, dtype: float64"
      ]
     },
     "execution_count": 74,
     "metadata": {},
     "output_type": "execute_result"
    }
   ],
   "source": [
    "before_content_restr.groupby(['StudentId']).count()['StudentClient'].describe()"
   ]
  },
  {
   "cell_type": "code",
   "execution_count": 75,
   "metadata": {},
   "outputs": [
    {
     "data": {
      "text/plain": [
       "count                  429653\n",
       "unique                 407917\n",
       "top       2018-03-06 04:34:18\n",
       "freq                        6\n",
       "first     2017-12-01 00:00:05\n",
       "last      2018-06-08 05:01:51\n",
       "Name: SessionStartTime, dtype: object"
      ]
     },
     "execution_count": 75,
     "metadata": {},
     "output_type": "execute_result"
    }
   ],
   "source": [
    "after_content_restr.SessionStartTime.describe()"
   ]
  },
  {
   "cell_type": "code",
   "execution_count": 76,
   "metadata": {},
   "outputs": [
    {
     "data": {
      "text/plain": [
       "count    39542.000000\n",
       "mean        10.865738\n",
       "std         20.053389\n",
       "min          1.000000\n",
       "25%          2.000000\n",
       "50%          5.000000\n",
       "75%         12.000000\n",
       "max       1605.000000\n",
       "Name: StudentClient, dtype: float64"
      ]
     },
     "execution_count": 76,
     "metadata": {},
     "output_type": "execute_result"
    }
   ],
   "source": [
    "after_content_restr.groupby(['StudentId']).count()['StudentClient'].describe()"
   ]
  },
  {
   "cell_type": "code",
   "execution_count": 60,
   "metadata": {},
   "outputs": [],
   "source": [
    "access_per_student = df_sessions.groupby(['StudentId']).count()['StudentClient']"
   ]
  },
  {
   "cell_type": "code",
   "execution_count": 63,
   "metadata": {},
   "outputs": [
    {
     "data": {
      "text/plain": [
       "count    60000.000000\n",
       "mean        23.317700\n",
       "std         39.589053\n",
       "min          1.000000\n",
       "25%          4.000000\n",
       "50%         11.000000\n",
       "75%         27.000000\n",
       "max       2543.000000\n",
       "Name: StudentClient, dtype: float64"
      ]
     },
     "execution_count": 63,
     "metadata": {},
     "output_type": "execute_result"
    }
   ],
   "source": [
    "access_per_student.describe()"
   ]
  },
  {
   "cell_type": "code",
   "execution_count": 62,
   "metadata": {},
   "outputs": [
    {
     "data": {
      "text/plain": [
       "StudentId\n",
       "25946       1\n",
       "50481       1\n",
       "102235      1\n",
       "103114      1\n",
       "130812      1\n",
       "           ..\n",
       "99923043    1\n",
       "99945450    1\n",
       "99956032    1\n",
       "99975922    1\n",
       "99979591    1\n",
       "Name: StudentClient, Length: 5308, dtype: int64"
      ]
     },
     "execution_count": 62,
     "metadata": {},
     "output_type": "execute_result"
    }
   ],
   "source": [
    "access_per_student[access_per_student == 1]"
   ]
  },
  {
   "cell_type": "code",
   "execution_count": 55,
   "metadata": {},
   "outputs": [
    {
     "data": {
      "text/html": [
       "<div>\n",
       "<style scoped>\n",
       "    .dataframe tbody tr th:only-of-type {\n",
       "        vertical-align: middle;\n",
       "    }\n",
       "\n",
       "    .dataframe tbody tr th {\n",
       "        vertical-align: top;\n",
       "    }\n",
       "\n",
       "    .dataframe thead th {\n",
       "        text-align: right;\n",
       "    }\n",
       "</style>\n",
       "<table border=\"1\" class=\"dataframe\">\n",
       "  <thead>\n",
       "    <tr style=\"text-align: right;\">\n",
       "      <th></th>\n",
       "      <th></th>\n",
       "      <th>SessionStartTime</th>\n",
       "    </tr>\n",
       "    <tr>\n",
       "      <th>StudentId</th>\n",
       "      <th>StudentClient</th>\n",
       "      <th></th>\n",
       "    </tr>\n",
       "  </thead>\n",
       "  <tbody>\n",
       "    <tr>\n",
       "      <th>50199885</th>\n",
       "      <th>Website</th>\n",
       "      <td>1</td>\n",
       "    </tr>\n",
       "    <tr>\n",
       "      <th>54431893</th>\n",
       "      <th>Android</th>\n",
       "      <td>1</td>\n",
       "    </tr>\n",
       "    <tr>\n",
       "      <th>54438104</th>\n",
       "      <th>Website</th>\n",
       "      <td>1</td>\n",
       "    </tr>\n",
       "    <tr>\n",
       "      <th>54453240</th>\n",
       "      <th>Webapp</th>\n",
       "      <td>1</td>\n",
       "    </tr>\n",
       "    <tr>\n",
       "      <th>54462625</th>\n",
       "      <th>Website</th>\n",
       "      <td>1</td>\n",
       "    </tr>\n",
       "    <tr>\n",
       "      <th>...</th>\n",
       "      <th>...</th>\n",
       "      <td>...</td>\n",
       "    </tr>\n",
       "    <tr>\n",
       "      <th>4323578</th>\n",
       "      <th>Webapp</th>\n",
       "      <td>2</td>\n",
       "    </tr>\n",
       "    <tr>\n",
       "      <th>14258072</th>\n",
       "      <th>Webapp</th>\n",
       "      <td>2</td>\n",
       "    </tr>\n",
       "    <tr>\n",
       "      <th>14133992</th>\n",
       "      <th>Website</th>\n",
       "      <td>2</td>\n",
       "    </tr>\n",
       "    <tr>\n",
       "      <th>12508995</th>\n",
       "      <th>Webapp</th>\n",
       "      <td>2</td>\n",
       "    </tr>\n",
       "    <tr>\n",
       "      <th>634465</th>\n",
       "      <th>Website</th>\n",
       "      <td>2</td>\n",
       "    </tr>\n",
       "  </tbody>\n",
       "</table>\n",
       "<p>25805 rows × 1 columns</p>\n",
       "</div>"
      ],
      "text/plain": [
       "                         SessionStartTime\n",
       "StudentId StudentClient                  \n",
       "50199885  Website                       1\n",
       "54431893  Android                       1\n",
       "54438104  Website                       1\n",
       "54453240  Webapp                        1\n",
       "54462625  Website                       1\n",
       "...                                   ...\n",
       "4323578   Webapp                        2\n",
       "14258072  Webapp                        2\n",
       "14133992  Website                       2\n",
       "12508995  Webapp                        2\n",
       "634465    Website                       2\n",
       "\n",
       "[25805 rows x 1 columns]"
      ]
     },
     "execution_count": 55,
     "metadata": {},
     "output_type": "execute_result"
    }
   ],
   "source": [
    "access_count = df_sessions.groupby(['StudentId', 'StudentClient']).count().sort_values('SessionStartTime')\n",
    "access_count.query('SessionStartTime <= 2')"
   ]
  },
  {
   "cell_type": "code",
   "execution_count": 36,
   "metadata": {},
   "outputs": [
    {
     "data": {
      "text/html": [
       "<div>\n",
       "<style scoped>\n",
       "    .dataframe tbody tr th:only-of-type {\n",
       "        vertical-align: middle;\n",
       "    }\n",
       "\n",
       "    .dataframe tbody tr th {\n",
       "        vertical-align: top;\n",
       "    }\n",
       "\n",
       "    .dataframe thead th {\n",
       "        text-align: right;\n",
       "    }\n",
       "</style>\n",
       "<table border=\"1\" class=\"dataframe\">\n",
       "  <thead>\n",
       "    <tr style=\"text-align: right;\">\n",
       "      <th></th>\n",
       "      <th>StudentId</th>\n",
       "      <th>SessionStartTime</th>\n",
       "      <th>StudentClient</th>\n",
       "    </tr>\n",
       "  </thead>\n",
       "  <tbody>\n",
       "    <tr>\n",
       "      <th>205146</th>\n",
       "      <td>82394932</td>\n",
       "      <td>2017-02-07 17:46:00</td>\n",
       "      <td>Website</td>\n",
       "    </tr>\n",
       "    <tr>\n",
       "      <th>205147</th>\n",
       "      <td>82394932</td>\n",
       "      <td>2017-02-07 17:53:33</td>\n",
       "      <td>Website</td>\n",
       "    </tr>\n",
       "    <tr>\n",
       "      <th>615932</th>\n",
       "      <td>32938466</td>\n",
       "      <td>2017-02-08 11:42:47</td>\n",
       "      <td>Website</td>\n",
       "    </tr>\n",
       "    <tr>\n",
       "      <th>4326</th>\n",
       "      <td>59828530</td>\n",
       "      <td>2017-02-08 11:46:22</td>\n",
       "      <td>Website</td>\n",
       "    </tr>\n",
       "    <tr>\n",
       "      <th>87112</th>\n",
       "      <td>51668081</td>\n",
       "      <td>2017-02-08 11:48:08</td>\n",
       "      <td>Website</td>\n",
       "    </tr>\n",
       "    <tr>\n",
       "      <th>...</th>\n",
       "      <td>...</td>\n",
       "      <td>...</td>\n",
       "      <td>...</td>\n",
       "    </tr>\n",
       "    <tr>\n",
       "      <th>318402</th>\n",
       "      <td>15818350</td>\n",
       "      <td>2017-02-08 18:13:50</td>\n",
       "      <td>Website</td>\n",
       "    </tr>\n",
       "    <tr>\n",
       "      <th>351700</th>\n",
       "      <td>63766632</td>\n",
       "      <td>2017-02-08 18:14:48</td>\n",
       "      <td>Website</td>\n",
       "    </tr>\n",
       "    <tr>\n",
       "      <th>82932</th>\n",
       "      <td>54316184</td>\n",
       "      <td>2017-02-08 18:17:28</td>\n",
       "      <td>Webapp</td>\n",
       "    </tr>\n",
       "    <tr>\n",
       "      <th>216426</th>\n",
       "      <td>87881432</td>\n",
       "      <td>2017-02-08 18:17:33</td>\n",
       "      <td>Website</td>\n",
       "    </tr>\n",
       "    <tr>\n",
       "      <th>519448</th>\n",
       "      <td>24002443</td>\n",
       "      <td>2017-02-08 18:18:27</td>\n",
       "      <td>Website</td>\n",
       "    </tr>\n",
       "  </tbody>\n",
       "</table>\n",
       "<p>100 rows × 3 columns</p>\n",
       "</div>"
      ],
      "text/plain": [
       "        StudentId    SessionStartTime StudentClient\n",
       "205146   82394932 2017-02-07 17:46:00       Website\n",
       "205147   82394932 2017-02-07 17:53:33       Website\n",
       "615932   32938466 2017-02-08 11:42:47       Website\n",
       "4326     59828530 2017-02-08 11:46:22       Website\n",
       "87112    51668081 2017-02-08 11:48:08       Website\n",
       "...           ...                 ...           ...\n",
       "318402   15818350 2017-02-08 18:13:50       Website\n",
       "351700   63766632 2017-02-08 18:14:48       Website\n",
       "82932    54316184 2017-02-08 18:17:28        Webapp\n",
       "216426   87881432 2017-02-08 18:17:33       Website\n",
       "519448   24002443 2017-02-08 18:18:27       Website\n",
       "\n",
       "[100 rows x 3 columns]"
      ]
     },
     "execution_count": 36,
     "metadata": {},
     "output_type": "execute_result"
    }
   ],
   "source": [
    "df_sessions.sort_values('SessionStartTime').head(100)"
   ]
  },
  {
   "cell_type": "markdown",
   "metadata": {},
   "source": [
    "### Dados sobre as matérias que cada usuário segue"
   ]
  },
  {
   "cell_type": "code",
   "execution_count": 78,
   "metadata": {},
   "outputs": [
    {
     "data": {
      "text/html": [
       "<div>\n",
       "<style scoped>\n",
       "    .dataframe tbody tr th:only-of-type {\n",
       "        vertical-align: middle;\n",
       "    }\n",
       "\n",
       "    .dataframe tbody tr th {\n",
       "        vertical-align: top;\n",
       "    }\n",
       "\n",
       "    .dataframe thead th {\n",
       "        text-align: right;\n",
       "    }\n",
       "</style>\n",
       "<table border=\"1\" class=\"dataframe\">\n",
       "  <thead>\n",
       "    <tr style=\"text-align: right;\">\n",
       "      <th></th>\n",
       "      <th>StudentId</th>\n",
       "      <th>SubjectName</th>\n",
       "      <th>FollowDate</th>\n",
       "      <th>year</th>\n",
       "      <th>month</th>\n",
       "      <th>year-month</th>\n",
       "    </tr>\n",
       "  </thead>\n",
       "  <tbody>\n",
       "    <tr>\n",
       "      <th>63571</th>\n",
       "      <td>87321417</td>\n",
       "      <td>Administração Financeira e Orçamentária I</td>\n",
       "      <td>2015-08-31 18:28:04</td>\n",
       "      <td>2015</td>\n",
       "      <td>8</td>\n",
       "      <td>2015-8</td>\n",
       "    </tr>\n",
       "    <tr>\n",
       "      <th>63572</th>\n",
       "      <td>87321417</td>\n",
       "      <td>Administração Financeira e Orçamentária II</td>\n",
       "      <td>2015-08-31 18:28:04</td>\n",
       "      <td>2015</td>\n",
       "      <td>8</td>\n",
       "      <td>2015-8</td>\n",
       "    </tr>\n",
       "    <tr>\n",
       "      <th>63569</th>\n",
       "      <td>87321417</td>\n",
       "      <td>Administração Financeira e Orçamentária</td>\n",
       "      <td>2015-08-31 18:28:04</td>\n",
       "      <td>2015</td>\n",
       "      <td>8</td>\n",
       "      <td>2015-8</td>\n",
       "    </tr>\n",
       "    <tr>\n",
       "      <th>42314</th>\n",
       "      <td>11356579</td>\n",
       "      <td>Eletrônica de Potência</td>\n",
       "      <td>2015-08-31 18:28:50</td>\n",
       "      <td>2015</td>\n",
       "      <td>8</td>\n",
       "      <td>2015-8</td>\n",
       "    </tr>\n",
       "    <tr>\n",
       "      <th>42317</th>\n",
       "      <td>11356579</td>\n",
       "      <td>Geração e Distribuição de Vapor</td>\n",
       "      <td>2015-08-31 18:28:50</td>\n",
       "      <td>2015</td>\n",
       "      <td>8</td>\n",
       "      <td>2015-8</td>\n",
       "    </tr>\n",
       "  </tbody>\n",
       "</table>\n",
       "</div>"
      ],
      "text/plain": [
       "       StudentId                                 SubjectName  \\\n",
       "63571   87321417   Administração Financeira e Orçamentária I   \n",
       "63572   87321417  Administração Financeira e Orçamentária II   \n",
       "63569   87321417     Administração Financeira e Orçamentária   \n",
       "42314   11356579                      Eletrônica de Potência   \n",
       "42317   11356579             Geração e Distribuição de Vapor   \n",
       "\n",
       "               FollowDate  year  month year-month  \n",
       "63571 2015-08-31 18:28:04  2015      8     2015-8  \n",
       "63572 2015-08-31 18:28:04  2015      8     2015-8  \n",
       "63569 2015-08-31 18:28:04  2015      8     2015-8  \n",
       "42314 2015-08-31 18:28:50  2015      8     2015-8  \n",
       "42317 2015-08-31 18:28:50  2015      8     2015-8  "
      ]
     },
     "execution_count": 78,
     "metadata": {},
     "output_type": "execute_result"
    }
   ],
   "source": [
    "df_subjects = pd.read_json('data/BASE B/subjects.json')\n",
    "df_subjects['FollowDate'] = pd.to_datetime(df_subjects['FollowDate'])\n",
    "\n",
    "df_subjects['year'] = df_subjects.FollowDate.dt.year\n",
    "df_subjects['month'] = df_subjects.FollowDate.dt.month\n",
    "df_subjects['year-month'] = df_subjects['year'].astype(str) + '-' + df_subjects['month'].astype(str)\n",
    "\n",
    "df_subjects.sort_values('FollowDate', inplace=True)\n",
    "df_subjects.head()"
   ]
  },
  {
   "cell_type": "code",
   "execution_count": 80,
   "metadata": {},
   "outputs": [
    {
     "data": {
      "image/png": "[encoded data removed]",
      "text/plain": [
       "<Figure size 864x288 with 1 Axes>"
      ]
     },
     "metadata": {},
     "output_type": "display_data"
    }
   ],
   "source": [
    "fig, ax = plt.subplots(1, 1, figsize=(12,4))\n",
    "sns.barplot(x='year-month', y='SubjectName', \n",
    "            data=df_subjects.groupby('year-month', sort=False)['SubjectName'].count().reset_index(),\n",
    "            palette='colorblind', ax=ax)\n",
    "ax.set_ylabel('Access count')\n",
    "ax.set_xlabel('Platform of access')\n",
    "ticks = ax.set_xticklabels(ax.get_xticklabels(), rotation=90, horizontalalignment='center')"
   ]
  },
  {
   "cell_type": "code",
   "execution_count": 77,
   "metadata": {},
   "outputs": [
    {
     "data": {
      "text/plain": [
       "year-month\n",
       "2015-10     9549\n",
       "2015-11     9476\n",
       "2015-12     3843\n",
       "2015-8       366\n",
       "2015-9     20228\n",
       "2016-1      3056\n",
       "2016-10     7309\n",
       "2016-11     6104\n",
       "2016-12     2848\n",
       "2016-2      8587\n",
       "2016-3     12505\n",
       "2016-4     10838\n",
       "2016-5      8608\n",
       "2016-6      7615\n",
       "2016-7      3472\n",
       "2016-8      7290\n",
       "2016-9      7954\n",
       "2017-1      1375\n",
       "2017-10    23641\n",
       "2017-11    69871\n",
       "2017-12     1520\n",
       "2017-2      4255\n",
       "2017-3     11339\n",
       "2017-4      8055\n",
       "2017-5      6635\n",
       "2017-6      7704\n",
       "2017-7      4051\n",
       "2017-8     13185\n",
       "2017-9     21550\n",
       "2018-1       746\n",
       "2018-2      1481\n",
       "2018-3      2667\n",
       "2018-4      3953\n",
       "2018-5      3444\n",
       "2018-6       646\n",
       "Name: SubjectName, dtype: int64"
      ]
     },
     "execution_count": 77,
     "metadata": {},
     "output_type": "execute_result"
    }
   ],
   "source": [
    "df_subjects.groupby('year-month', sort=False).count()['SubjectName']"
   ]
  },
  {
   "cell_type": "code",
   "execution_count": 74,
   "metadata": {},
   "outputs": [
    {
     "data": {
      "text/plain": [
       "19711"
      ]
     },
     "execution_count": 74,
     "metadata": {},
     "output_type": "execute_result"
    }
   ],
   "source": [
    "len(df_subjects.SubjectName.unique())"
   ]
  },
  {
   "cell_type": "markdown",
   "metadata": {},
   "source": [
    "### Dados sobre os arquivos que cada usuário visualizou\n",
    "Big, more than 3M lines"
   ]
  },
  {
   "cell_type": "code",
   "execution_count": 24,
   "metadata": {},
   "outputs": [
    {
     "data": {
      "text/html": [
       "<div>\n",
       "<style scoped>\n",
       "    .dataframe tbody tr th:only-of-type {\n",
       "        vertical-align: middle;\n",
       "    }\n",
       "\n",
       "    .dataframe tbody tr th {\n",
       "        vertical-align: top;\n",
       "    }\n",
       "\n",
       "    .dataframe thead th {\n",
       "        text-align: right;\n",
       "    }\n",
       "</style>\n",
       "<table border=\"1\" class=\"dataframe\">\n",
       "  <thead>\n",
       "    <tr style=\"text-align: right;\">\n",
       "      <th></th>\n",
       "      <th>StudentId</th>\n",
       "      <th>FileName</th>\n",
       "      <th>ViewDate</th>\n",
       "      <th>Studentclient</th>\n",
       "    </tr>\n",
       "  </thead>\n",
       "  <tbody>\n",
       "    <tr>\n",
       "      <th>0</th>\n",
       "      <td>12970655</td>\n",
       "      <td>Exercicios Resolvidos do Halliday sobre Rotaçã...</td>\n",
       "      <td>2017-02-23 10:46:03.047000</td>\n",
       "      <td>Website</td>\n",
       "    </tr>\n",
       "    <tr>\n",
       "      <th>1</th>\n",
       "      <td>12970655</td>\n",
       "      <td>Exercicios Resolvidos do Halliday sobre Rotaçã...</td>\n",
       "      <td>2017-02-23 10:46:12.370000</td>\n",
       "      <td>Website</td>\n",
       "    </tr>\n",
       "    <tr>\n",
       "      <th>2</th>\n",
       "      <td>12970655</td>\n",
       "      <td>CALCULO I</td>\n",
       "      <td>2017-05-25 22:39:48.000000</td>\n",
       "      <td>Website</td>\n",
       "    </tr>\n",
       "    <tr>\n",
       "      <th>3</th>\n",
       "      <td>12970655</td>\n",
       "      <td>CALCULO I</td>\n",
       "      <td>2017-05-25 22:40:36.000000</td>\n",
       "      <td>Website</td>\n",
       "    </tr>\n",
       "    <tr>\n",
       "      <th>4</th>\n",
       "      <td>12970655</td>\n",
       "      <td>CALCULO I</td>\n",
       "      <td>2017-05-25 22:43:16.000000</td>\n",
       "      <td>Website</td>\n",
       "    </tr>\n",
       "  </tbody>\n",
       "</table>\n",
       "</div>"
      ],
      "text/plain": [
       "   StudentId                                           FileName  \\\n",
       "0   12970655  Exercicios Resolvidos do Halliday sobre Rotaçã...   \n",
       "1   12970655  Exercicios Resolvidos do Halliday sobre Rotaçã...   \n",
       "2   12970655                                          CALCULO I   \n",
       "3   12970655                                          CALCULO I   \n",
       "4   12970655                                          CALCULO I   \n",
       "\n",
       "                     ViewDate Studentclient  \n",
       "0  2017-02-23 10:46:03.047000       Website  \n",
       "1  2017-02-23 10:46:12.370000       Website  \n",
       "2  2017-05-25 22:39:48.000000       Website  \n",
       "3  2017-05-25 22:40:36.000000       Website  \n",
       "4  2017-05-25 22:43:16.000000       Website  "
      ]
     },
     "execution_count": 24,
     "metadata": {},
     "output_type": "execute_result"
    }
   ],
   "source": [
    "df_file_views = pd.read_json('data/BASE B/fileViews.json')\n",
    "df_file_views.head()"
   ]
  }
 ],
 "metadata": {
  "kernelspec": {
   "display_name": "Python 3",
   "language": "python",
   "name": "python3"
  },
  "language_info": {
   "codemirror_mode": {
    "name": "ipython",
    "version": 3
   },
   "file_extension": ".py",
   "mimetype": "text/x-python",
   "name": "python",
   "nbconvert_exporter": "python",
   "pygments_lexer": "ipython3",
   "version": "3.7.6"
  },
  "pycharm": {
   "stem_cell": {
    "cell_type": "raw",
    "metadata": {
     "collapsed": false
    },
    "source": []
   }
  }
 },
 "nbformat": 4,
 "nbformat_minor": 1
}
