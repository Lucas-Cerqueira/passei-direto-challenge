{
 "cells": [
  {
   "cell_type": "code",
   "execution_count": 2,
   "metadata": {},
   "outputs": [],
   "source": [
    "import pandas as pd\n",
    "import numpy as np\n",
    "import seaborn as sns\n",
    "import matplotlib.pyplot as plt\n",
    "from bs4 import BeautifulSoup\n",
    "import warnings\n",
    "\n",
    "sns.set(font_scale=1.3, \n",
    "        font='Calibri', \n",
    "        style=\"whitegrid\")"
   ]
  },
  {
   "cell_type": "markdown",
   "metadata": {},
   "source": [
    "## Carregando os dados"
   ]
  },
  {
   "cell_type": "markdown",
   "metadata": {},
   "source": [
    "### Dados sobre as questões feitas pelos usuários"
   ]
  },
  {
   "cell_type": "code",
   "execution_count": 46,
   "metadata": {},
   "outputs": [
    {
     "data": {
      "text/html": [
       "<div>\n",
       "<style scoped>\n",
       "    .dataframe tbody tr th:only-of-type {\n",
       "        vertical-align: middle;\n",
       "    }\n",
       "\n",
       "    .dataframe tbody tr th {\n",
       "        vertical-align: top;\n",
       "    }\n",
       "\n",
       "    .dataframe thead th {\n",
       "        text-align: right;\n",
       "    }\n",
       "</style>\n",
       "<table border=\"1\" class=\"dataframe\">\n",
       "  <thead>\n",
       "    <tr style=\"text-align: right;\">\n",
       "      <th></th>\n",
       "      <th>StudentId</th>\n",
       "      <th>QuestionDate</th>\n",
       "      <th>QuestionSnippet</th>\n",
       "      <th>StudentClient</th>\n",
       "    </tr>\n",
       "  </thead>\n",
       "  <tbody>\n",
       "    <tr>\n",
       "      <th>0</th>\n",
       "      <td>12970655</td>\n",
       "      <td>2013-09-04 14:09:25.963</td>\n",
       "      <td>O que é mais importante para um projeto: escop...</td>\n",
       "      <td>NaN</td>\n",
       "    </tr>\n",
       "    <tr>\n",
       "      <th>1</th>\n",
       "      <td>12970655</td>\n",
       "      <td>2013-09-04 15:36:51.083</td>\n",
       "      <td>Você pode ter um negócio/produto bem sucedido ...</td>\n",
       "      <td>NaN</td>\n",
       "    </tr>\n",
       "    <tr>\n",
       "      <th>2</th>\n",
       "      <td>12970655</td>\n",
       "      <td>2013-10-30 19:41:43.137</td>\n",
       "      <td>Custos com consultoria para planejar um projet...</td>\n",
       "      <td>NaN</td>\n",
       "    </tr>\n",
       "    <tr>\n",
       "      <th>3</th>\n",
       "      <td>12970655</td>\n",
       "      <td>2013-10-30 19:19:15.517</td>\n",
       "      <td>CAPEX: investimento em consultoria entra como ...</td>\n",
       "      <td>NaN</td>\n",
       "    </tr>\n",
       "    <tr>\n",
       "      <th>4</th>\n",
       "      <td>12970655</td>\n",
       "      <td>2013-10-30 19:38:06.420</td>\n",
       "      <td>Custos com consultoria para planejar um projet...</td>\n",
       "      <td>NaN</td>\n",
       "    </tr>\n",
       "  </tbody>\n",
       "</table>\n",
       "</div>"
      ],
      "text/plain": [
       "   StudentId            QuestionDate  \\\n",
       "0   12970655 2013-09-04 14:09:25.963   \n",
       "1   12970655 2013-09-04 15:36:51.083   \n",
       "2   12970655 2013-10-30 19:41:43.137   \n",
       "3   12970655 2013-10-30 19:19:15.517   \n",
       "4   12970655 2013-10-30 19:38:06.420   \n",
       "\n",
       "                                     QuestionSnippet StudentClient  \n",
       "0  O que é mais importante para um projeto: escop...           NaN  \n",
       "1  Você pode ter um negócio/produto bem sucedido ...           NaN  \n",
       "2  Custos com consultoria para planejar um projet...           NaN  \n",
       "3  CAPEX: investimento em consultoria entra como ...           NaN  \n",
       "4  Custos com consultoria para planejar um projet...           NaN  "
      ]
     },
     "execution_count": 46,
     "metadata": {},
     "output_type": "execute_result"
    }
   ],
   "source": [
    "df_questions = pd.read_json('data/BASE B/questions.json')\n",
    "df_questions['QuestionDate'] = pd.to_datetime(df_questions['QuestionDate'])\n",
    "df_questions.head()"
   ]
  },
  {
   "cell_type": "code",
   "execution_count": 47,
   "metadata": {},
   "outputs": [
    {
     "data": {
      "text/plain": [
       "count    2240.000000\n",
       "mean        1.743750\n",
       "std         3.303801\n",
       "min         1.000000\n",
       "25%         1.000000\n",
       "50%         1.000000\n",
       "75%         2.000000\n",
       "max        78.000000\n",
       "Name: QuestionSnippet, dtype: float64"
      ]
     },
     "execution_count": 47,
     "metadata": {},
     "output_type": "execute_result"
    }
   ],
   "source": [
    "df_questions.groupby(['StudentId'])['QuestionSnippet'].count().describe()"
   ]
  },
  {
   "cell_type": "code",
   "execution_count": 3,
   "metadata": {},
   "outputs": [
    {
     "data": {
      "text/plain": [
       "StudentId\n",
       "36619758    78\n",
       "52684890    76\n",
       "53791397    59\n",
       "2449655     45\n",
       "7308309     24\n",
       "            ..\n",
       "62490564     1\n",
       "62514900     1\n",
       "62543464     1\n",
       "62544540     1\n",
       "49918755     1\n",
       "Name: QuestionSnippet, Length: 2240, dtype: int64"
      ]
     },
     "execution_count": 3,
     "metadata": {},
     "output_type": "execute_result"
    }
   ],
   "source": [
    "df_questions.groupby(['StudentId'])['QuestionSnippet'].count().sort_values(ascending=False)"
   ]
  },
  {
   "cell_type": "code",
   "execution_count": 16,
   "metadata": {},
   "outputs": [
    {
     "data": {
      "text/plain": [
       "3202              tenho prova unopar Raciocínio lógico e matemático chama 32988499570\n",
       "3203                    prova unopar Raciocínio lógico e matemático chama 32988499570\n",
       "3204                                                         Prova unopar 32988499570\n",
       "3205                                                    prova unopar wsp 32 988499570\n",
       "3206          Raciocínio logico e matemático. prova da unopar  chama wsp 88 8136 2988\n",
       "                                            ...                                      \n",
       "3275    unopar provas formação integral em saúde hoje tenho prova chama (88)8136-2988\n",
       "3276      tenho prova formação integral em saúde hoje tenho prova chama (88)8136-2988\n",
       "3277                      ciência humana socais  hoje tenho prova chama (88)8136-2988\n",
       "3278                                                        prova unopar 43 9107-7084\n",
       "3279                              alunos interessado provas unopar chama 43 9107-7084\n",
       "Name: QuestionSnippet, Length: 78, dtype: object"
      ]
     },
     "execution_count": 16,
     "metadata": {},
     "output_type": "execute_result"
    }
   ],
   "source": [
    "pd.set_option('display.max_colwidth', 100)\n",
    "df_questions.query('StudentId == 36619758')['QuestionSnippet']"
   ]
  },
  {
   "cell_type": "markdown",
   "metadata": {},
   "source": [
    "### Dados sobre as respostas dadas pelos usuários\n",
    "Fazendo o parsing das respostas que vieram com elementos de HTML."
   ]
  },
  {
   "cell_type": "code",
   "execution_count": 6,
   "metadata": {},
   "outputs": [
    {
     "data": {
      "text/html": [
       "<div>\n",
       "<style scoped>\n",
       "    .dataframe tbody tr th:only-of-type {\n",
       "        vertical-align: middle;\n",
       "    }\n",
       "\n",
       "    .dataframe tbody tr th {\n",
       "        vertical-align: top;\n",
       "    }\n",
       "\n",
       "    .dataframe thead th {\n",
       "        text-align: right;\n",
       "    }\n",
       "</style>\n",
       "<table border=\"1\" class=\"dataframe\">\n",
       "  <thead>\n",
       "    <tr style=\"text-align: right;\">\n",
       "      <th></th>\n",
       "      <th>StudentId</th>\n",
       "      <th>AnswerDate</th>\n",
       "      <th>AnswerSnippet</th>\n",
       "      <th>StudentClient</th>\n",
       "    </tr>\n",
       "  </thead>\n",
       "  <tbody>\n",
       "    <tr>\n",
       "      <th>0</th>\n",
       "      <td>12970655</td>\n",
       "      <td>2013-08-30 12:27:57.190</td>\n",
       "      <td>Vou tentar simplificar ainda mais...&lt;str</td>\n",
       "      <td>NaN</td>\n",
       "    </tr>\n",
       "    <tr>\n",
       "      <th>1</th>\n",
       "      <td>12970655</td>\n",
       "      <td>2013-09-04 14:03:18.240</td>\n",
       "      <td>O centil divide algo em 100 partes. Cada centil é 1 parte das 100 partes.</td>\n",
       "      <td>NaN</td>\n",
       "    </tr>\n",
       "    <tr>\n",
       "      <th>2</th>\n",
       "      <td>12970655</td>\n",
       "      <td>2013-09-05 13:20:09.513</td>\n",
       "      <td>Ou será que o problema que esses produtos solucionam é o TÉDIO? =)</td>\n",
       "      <td>NaN</td>\n",
       "    </tr>\n",
       "    <tr>\n",
       "      <th>3</th>\n",
       "      <td>12970655</td>\n",
       "      <td>2013-09-04 19:01:56.357</td>\n",
       "      <td>Excelente pergunta! Abaixo estão as minhas lições em ordem de importân</td>\n",
       "      <td>NaN</td>\n",
       "    </tr>\n",
       "    <tr>\n",
       "      <th>4</th>\n",
       "      <td>12970655</td>\n",
       "      <td>2013-11-12 00:06:05.200</td>\n",
       "      <td>Vamos supor que você se compromete a comprar um imóvel de R$ 500.000 em 50 parcelas</td>\n",
       "      <td>NaN</td>\n",
       "    </tr>\n",
       "  </tbody>\n",
       "</table>\n",
       "</div>"
      ],
      "text/plain": [
       "   StudentId              AnswerDate  \\\n",
       "0   12970655 2013-08-30 12:27:57.190   \n",
       "1   12970655 2013-09-04 14:03:18.240   \n",
       "2   12970655 2013-09-05 13:20:09.513   \n",
       "3   12970655 2013-09-04 19:01:56.357   \n",
       "4   12970655 2013-11-12 00:06:05.200   \n",
       "\n",
       "                                                                          AnswerSnippet  \\\n",
       "0                                              Vou tentar simplificar ainda mais...<str   \n",
       "1             O centil divide algo em 100 partes. Cada centil é 1 parte das 100 partes.   \n",
       "2                    Ou será que o problema que esses produtos solucionam é o TÉDIO? =)   \n",
       "3                Excelente pergunta! Abaixo estão as minhas lições em ordem de importân   \n",
       "4  Vamos supor que você se compromete a comprar um imóvel de R$ 500.000 em 50 parcelas    \n",
       "\n",
       "  StudentClient  \n",
       "0           NaN  \n",
       "1           NaN  \n",
       "2           NaN  \n",
       "3           NaN  \n",
       "4           NaN  "
      ]
     },
     "execution_count": 6,
     "metadata": {},
     "output_type": "execute_result"
    }
   ],
   "source": [
    "df_answers = pd.read_json('data/BASE B/answers.json')\n",
    "df_answers['AnswerDate'] = pd.to_datetime(df_answers['AnswerDate'])\n",
    "\n",
    "# Supress warnings to run the BeautifulSoup to ignore URLs in the answers\n",
    "warnings.filterwarnings(\"ignore\", category=UserWarning, module='bs4')\n",
    "original_answers = df_answers['AnswerSnippet'].copy() # Creating a copy to show some stuff later\n",
    "df_answers['AnswerSnippet'] = df_answers['AnswerSnippet'].map(lambda x: BeautifulSoup(x).text.replace(\"\\n\", \"\"))\n",
    "warnings.resetwarnings()\n",
    "\n",
    "df_answers.head()"
   ]
  },
  {
   "cell_type": "markdown",
   "metadata": {},
   "source": [
    "#### Contagem de respostas por usuário"
   ]
  },
  {
   "cell_type": "code",
   "execution_count": 7,
   "metadata": {},
   "outputs": [
    {
     "data": {
      "text/plain": [
       "StudentId\n",
       "70700878    124\n",
       "52374651     67\n",
       "53791397     62\n",
       "78378179     56\n",
       "60827919     50\n",
       "           ... \n",
       "59300762      1\n",
       "59230582      1\n",
       "59133236      1\n",
       "59051854      1\n",
       "3546          1\n",
       "Name: AnswerSnippet, Length: 3068, dtype: int64"
      ]
     },
     "execution_count": 7,
     "metadata": {},
     "output_type": "execute_result"
    }
   ],
   "source": [
    "df_answers.groupby(['StudentId'])['AnswerSnippet'].count().sort_values(ascending=False)"
   ]
  },
  {
   "cell_type": "markdown",
   "metadata": {},
   "source": [
    "#### As 124 respostas me chamaram a atenção e esse aluno parece gostar bastante de postar vários links, inclusives externos ao PD\n",
    "Não sei se há algum tipo de filtro a esse tipo de conteúdo. Talvez esconder URLs externas ao domínio do PD ou, pelo menos, avisar ao usuário que ele está saindo do domínio e que a plataforma não se responsabiliza a partir desse ponto."
   ]
  },
  {
   "cell_type": "code",
   "execution_count": 8,
   "metadata": {},
   "outputs": [
    {
     "data": {
      "text/plain": [
       "650                                                                        para quem se interessa e\n",
       "651      aqui neste link tem mais de 300 livros para abaixar que vão te ajudar a tirar suas duvidas\n",
       "652    Neste link  https://mega.co.nz/#F!Ns4UkDCJ!Ep49t57YcQMIeoiIA6rdpQ tem genes VIII e genes XI \n",
       "653            neste link tem alguns livros de patologia que talvez possa te ajudar LINK https://me\n",
       "654                              neste link tem alguns livros de Hemato para vc abaixar   <a href=\"\n",
       "                                                   ...                                             \n",
       "769              neste link vc vai encontrar livros que vão te ajudar<a href=\"../../arquivo/1726254\n",
       "770              neste link vc vai encontrar livros que vão te ajudar<a href=\"../../arquivo/1726254\n",
       "771            neste link vc vai encontrar <a href=\"../../arquivo/17262543/sao-mais-350-livros-com-\n",
       "772              neste link vc vai encontrar livros que vão te ajudar<a href=\"../../arquivo/1726254\n",
       "773            use este https://www.passeidireto.com/arquivo/25183233/mais-de-600-livros-em-pdf-par\n",
       "Name: AnswerSnippet, Length: 124, dtype: object"
      ]
     },
     "execution_count": 8,
     "metadata": {},
     "output_type": "execute_result"
    }
   ],
   "source": [
    "pd.set_option('display.max_colwidth', 100)\n",
    "df_answers.query('StudentId == 70700878')['AnswerSnippet']"
   ]
  },
  {
   "cell_type": "markdown",
   "metadata": {},
   "source": [
    "#### Tamanho das respostas\n",
    "Os 100 caracteres são o limite para extrair o snippet, porém há respostas muito curtas que muito provavelmente não respondem à pergunta do usuário. Inclusive, algumas respostas são formadas apenas por caracteres especiais."
   ]
  },
  {
   "cell_type": "code",
   "execution_count": 20,
   "metadata": {},
   "outputs": [
    {
     "data": {
      "text/html": [
       "<div>\n",
       "<style scoped>\n",
       "    .dataframe tbody tr th:only-of-type {\n",
       "        vertical-align: middle;\n",
       "    }\n",
       "\n",
       "    .dataframe tbody tr th {\n",
       "        vertical-align: top;\n",
       "    }\n",
       "\n",
       "    .dataframe thead th {\n",
       "        text-align: right;\n",
       "    }\n",
       "</style>\n",
       "<table border=\"1\" class=\"dataframe\">\n",
       "  <thead>\n",
       "    <tr style=\"text-align: right;\">\n",
       "      <th></th>\n",
       "      <th>StudentId</th>\n",
       "      <th>AnswerDate</th>\n",
       "      <th>AnswerSnippet</th>\n",
       "      <th>StudentClient</th>\n",
       "    </tr>\n",
       "  </thead>\n",
       "  <tbody>\n",
       "    <tr>\n",
       "      <th>82</th>\n",
       "      <td>79626956</td>\n",
       "      <td>2017-11-29 10:42:54.641832</td>\n",
       "      <td>:)</td>\n",
       "      <td>Website</td>\n",
       "    </tr>\n",
       "    <tr>\n",
       "      <th>153</th>\n",
       "      <td>20863702</td>\n",
       "      <td>2015-08-26 17:12:22.370000</td>\n",
       "      <td>=\\</td>\n",
       "      <td>Website</td>\n",
       "    </tr>\n",
       "    <tr>\n",
       "      <th>217</th>\n",
       "      <td>28332695</td>\n",
       "      <td>2018-05-17 23:03:05.048545</td>\n",
       "      <td>..</td>\n",
       "      <td>Website</td>\n",
       "    </tr>\n",
       "    <tr>\n",
       "      <th>218</th>\n",
       "      <td>28332695</td>\n",
       "      <td>2018-05-17 23:03:10.142826</td>\n",
       "      <td>...</td>\n",
       "      <td>Website</td>\n",
       "    </tr>\n",
       "    <tr>\n",
       "      <th>219</th>\n",
       "      <td>28332695</td>\n",
       "      <td>2018-05-17 23:02:52.231273</td>\n",
       "      <td>..</td>\n",
       "      <td>Website</td>\n",
       "    </tr>\n",
       "    <tr>\n",
       "      <th>...</th>\n",
       "      <td>...</td>\n",
       "      <td>...</td>\n",
       "      <td>...</td>\n",
       "      <td>...</td>\n",
       "    </tr>\n",
       "    <tr>\n",
       "      <th>7408</th>\n",
       "      <td>10269728</td>\n",
       "      <td>2017-11-20 12:23:52.569639</td>\n",
       "      <td>.</td>\n",
       "      <td>Website</td>\n",
       "    </tr>\n",
       "    <tr>\n",
       "      <th>7446</th>\n",
       "      <td>61771473</td>\n",
       "      <td>2017-11-21 10:25:06.162337</td>\n",
       "      <td>...</td>\n",
       "      <td>Website</td>\n",
       "    </tr>\n",
       "    <tr>\n",
       "      <th>7479</th>\n",
       "      <td>50149742</td>\n",
       "      <td>2018-04-18 21:20:45.305708</td>\n",
       "      <td>?</td>\n",
       "      <td>Website</td>\n",
       "    </tr>\n",
       "    <tr>\n",
       "      <th>7510</th>\n",
       "      <td>56220010</td>\n",
       "      <td>2018-05-15 13:31:32.627070</td>\n",
       "      <td>?</td>\n",
       "      <td>Android | 7.0 | sdk 24</td>\n",
       "    </tr>\n",
       "    <tr>\n",
       "      <th>7511</th>\n",
       "      <td>81029016</td>\n",
       "      <td>2018-05-07 17:57:48.002312</td>\n",
       "      <td>!</td>\n",
       "      <td>Website</td>\n",
       "    </tr>\n",
       "  </tbody>\n",
       "</table>\n",
       "<p>105 rows × 4 columns</p>\n",
       "</div>"
      ],
      "text/plain": [
       "      StudentId                 AnswerDate AnswerSnippet  \\\n",
       "82     79626956 2017-11-29 10:42:54.641832            :)   \n",
       "153    20863702 2015-08-26 17:12:22.370000            =\\   \n",
       "217    28332695 2018-05-17 23:03:05.048545            ..   \n",
       "218    28332695 2018-05-17 23:03:10.142826           ...   \n",
       "219    28332695 2018-05-17 23:02:52.231273            ..   \n",
       "...         ...                        ...           ...   \n",
       "7408   10269728 2017-11-20 12:23:52.569639             .   \n",
       "7446   61771473 2017-11-21 10:25:06.162337           ...   \n",
       "7479   50149742 2018-04-18 21:20:45.305708             ?   \n",
       "7510   56220010 2018-05-15 13:31:32.627070             ?   \n",
       "7511   81029016 2018-05-07 17:57:48.002312             !   \n",
       "\n",
       "               StudentClient  \n",
       "82                   Website  \n",
       "153                  Website  \n",
       "217                  Website  \n",
       "218                  Website  \n",
       "219                  Website  \n",
       "...                      ...  \n",
       "7408                 Website  \n",
       "7446                 Website  \n",
       "7479                 Website  \n",
       "7510  Android | 7.0 | sdk 24  \n",
       "7511                 Website  \n",
       "\n",
       "[105 rows x 4 columns]"
      ]
     },
     "execution_count": 20,
     "metadata": {},
     "output_type": "execute_result"
    }
   ],
   "source": [
    "df_answers[df_answers['AnswerSnippet'].str.match(r'^[^a-zA-Z0-9]+$')]"
   ]
  },
  {
   "cell_type": "markdown",
   "metadata": {},
   "source": [
    "### Dados sobre as matérias que cada usuário segue"
   ]
  },
  {
   "cell_type": "code",
   "execution_count": 3,
   "metadata": {},
   "outputs": [
    {
     "data": {
      "text/html": [
       "<div>\n",
       "<style scoped>\n",
       "    .dataframe tbody tr th:only-of-type {\n",
       "        vertical-align: middle;\n",
       "    }\n",
       "\n",
       "    .dataframe tbody tr th {\n",
       "        vertical-align: top;\n",
       "    }\n",
       "\n",
       "    .dataframe thead th {\n",
       "        text-align: right;\n",
       "    }\n",
       "</style>\n",
       "<table border=\"1\" class=\"dataframe\">\n",
       "  <thead>\n",
       "    <tr style=\"text-align: right;\">\n",
       "      <th></th>\n",
       "      <th>StudentId</th>\n",
       "      <th>SubjectName</th>\n",
       "      <th>FollowDate</th>\n",
       "      <th>year</th>\n",
       "      <th>month</th>\n",
       "      <th>year-month</th>\n",
       "    </tr>\n",
       "  </thead>\n",
       "  <tbody>\n",
       "    <tr>\n",
       "      <th>63571</th>\n",
       "      <td>87321417</td>\n",
       "      <td>Administração Financeira e Orçamentária I</td>\n",
       "      <td>2015-08-31 18:28:04</td>\n",
       "      <td>2015</td>\n",
       "      <td>8</td>\n",
       "      <td>2015-8</td>\n",
       "    </tr>\n",
       "    <tr>\n",
       "      <th>63572</th>\n",
       "      <td>87321417</td>\n",
       "      <td>Administração Financeira e Orçamentária II</td>\n",
       "      <td>2015-08-31 18:28:04</td>\n",
       "      <td>2015</td>\n",
       "      <td>8</td>\n",
       "      <td>2015-8</td>\n",
       "    </tr>\n",
       "    <tr>\n",
       "      <th>63569</th>\n",
       "      <td>87321417</td>\n",
       "      <td>Administração Financeira e Orçamentária</td>\n",
       "      <td>2015-08-31 18:28:04</td>\n",
       "      <td>2015</td>\n",
       "      <td>8</td>\n",
       "      <td>2015-8</td>\n",
       "    </tr>\n",
       "    <tr>\n",
       "      <th>42314</th>\n",
       "      <td>11356579</td>\n",
       "      <td>Eletrônica de Potência</td>\n",
       "      <td>2015-08-31 18:28:50</td>\n",
       "      <td>2015</td>\n",
       "      <td>8</td>\n",
       "      <td>2015-8</td>\n",
       "    </tr>\n",
       "    <tr>\n",
       "      <th>42317</th>\n",
       "      <td>11356579</td>\n",
       "      <td>Geração e Distribuição de Vapor</td>\n",
       "      <td>2015-08-31 18:28:50</td>\n",
       "      <td>2015</td>\n",
       "      <td>8</td>\n",
       "      <td>2015-8</td>\n",
       "    </tr>\n",
       "  </tbody>\n",
       "</table>\n",
       "</div>"
      ],
      "text/plain": [
       "       StudentId                                 SubjectName  \\\n",
       "63571   87321417   Administração Financeira e Orçamentária I   \n",
       "63572   87321417  Administração Financeira e Orçamentária II   \n",
       "63569   87321417     Administração Financeira e Orçamentária   \n",
       "42314   11356579                      Eletrônica de Potência   \n",
       "42317   11356579             Geração e Distribuição de Vapor   \n",
       "\n",
       "               FollowDate  year  month year-month  \n",
       "63571 2015-08-31 18:28:04  2015      8     2015-8  \n",
       "63572 2015-08-31 18:28:04  2015      8     2015-8  \n",
       "63569 2015-08-31 18:28:04  2015      8     2015-8  \n",
       "42314 2015-08-31 18:28:50  2015      8     2015-8  \n",
       "42317 2015-08-31 18:28:50  2015      8     2015-8  "
      ]
     },
     "execution_count": 3,
     "metadata": {},
     "output_type": "execute_result"
    }
   ],
   "source": [
    "df_subjects = pd.read_json('data/BASE B/subjects.json')\n",
    "df_subjects['FollowDate'] = pd.to_datetime(df_subjects['FollowDate'])\n",
    "\n",
    "df_subjects['year'] = df_subjects.FollowDate.dt.year\n",
    "df_subjects['month'] = df_subjects.FollowDate.dt.month\n",
    "df_subjects['year-month'] = df_subjects['year'].astype(str) + '-' + df_subjects['month'].astype(str)\n",
    "\n",
    "df_subjects.sort_values('FollowDate', inplace=True)\n",
    "df_subjects.head()"
   ]
  },
  {
   "cell_type": "markdown",
   "metadata": {},
   "source": [
    "### Quantidade de momentos diferentes em que um usuário se registrou em disciplinas\n",
    "O primeiro momento é na tela de registro. Caso o usuário não tenha se registrado em mais nenhuma disciplina depois do registro, o valor da agregação será 1, por exemplo."
   ]
  },
  {
   "cell_type": "code",
   "execution_count": 42,
   "metadata": {},
   "outputs": [
    {
     "data": {
      "text/plain": [
       "count    57229.000000\n",
       "mean         1.753447\n",
       "std          3.074462\n",
       "min          1.000000\n",
       "25%          1.000000\n",
       "50%          1.000000\n",
       "75%          2.000000\n",
       "max        263.000000\n",
       "Name: FollowDate, dtype: float64"
      ]
     },
     "execution_count": 42,
     "metadata": {},
     "output_type": "execute_result"
    }
   ],
   "source": [
    "df_subjects.groupby('StudentId')['FollowDate'].nunique().describe()"
   ]
  },
  {
   "cell_type": "code",
   "execution_count": 54,
   "metadata": {},
   "outputs": [
    {
     "data": {
      "text/plain": [
       "1.0"
      ]
     },
     "execution_count": 54,
     "metadata": {},
     "output_type": "execute_result"
    }
   ],
   "source": [
    "df_subjects.groupby('StudentId')['FollowDate'].nunique().quantile(.70)"
   ]
  },
  {
   "cell_type": "code",
   "execution_count": 41,
   "metadata": {},
   "outputs": [
    {
     "data": {
      "text/plain": [
       "2.0"
      ]
     },
     "execution_count": 41,
     "metadata": {},
     "output_type": "execute_result"
    }
   ],
   "source": [
    "df_subjects.groupby('StudentId')['FollowDate'].nunique().quantile(.85)"
   ]
  },
  {
   "cell_type": "code",
   "execution_count": 19,
   "metadata": {},
   "outputs": [
    {
     "data": {
      "text/plain": [
       "StudentId\n",
       "41990843    283\n",
       "96396664    219\n",
       "63414380    218\n",
       "37446846    200\n",
       "50400152    190\n",
       "Name: SubjectName, dtype: int64"
      ]
     },
     "execution_count": 19,
     "metadata": {},
     "output_type": "execute_result"
    }
   ],
   "source": [
    "df_subjects.groupby('StudentId')['SubjectName'].count().sort_values(ascending=False).head()"
   ]
  },
  {
   "cell_type": "code",
   "execution_count": 29,
   "metadata": {},
   "outputs": [
    {
     "data": {
      "text/html": [
       "<div>\n",
       "<style scoped>\n",
       "    .dataframe tbody tr th:only-of-type {\n",
       "        vertical-align: middle;\n",
       "    }\n",
       "\n",
       "    .dataframe tbody tr th {\n",
       "        vertical-align: top;\n",
       "    }\n",
       "\n",
       "    .dataframe thead th {\n",
       "        text-align: right;\n",
       "    }\n",
       "</style>\n",
       "<table border=\"1\" class=\"dataframe\">\n",
       "  <thead>\n",
       "    <tr style=\"text-align: right;\">\n",
       "      <th></th>\n",
       "      <th>StudentId</th>\n",
       "      <th>SubjectName</th>\n",
       "      <th>FollowDate</th>\n",
       "      <th>year</th>\n",
       "      <th>month</th>\n",
       "      <th>year-month</th>\n",
       "    </tr>\n",
       "  </thead>\n",
       "  <tbody>\n",
       "    <tr>\n",
       "      <th>94342</th>\n",
       "      <td>41990843</td>\n",
       "      <td>Direito Constitucional II</td>\n",
       "      <td>2015-11-15 08:03:53</td>\n",
       "      <td>2015</td>\n",
       "      <td>11</td>\n",
       "      <td>2015-11</td>\n",
       "    </tr>\n",
       "    <tr>\n",
       "      <th>94320</th>\n",
       "      <td>41990843</td>\n",
       "      <td>Direito Processual Civil I</td>\n",
       "      <td>2015-11-15 08:03:53</td>\n",
       "      <td>2015</td>\n",
       "      <td>11</td>\n",
       "      <td>2015-11</td>\n",
       "    </tr>\n",
       "    <tr>\n",
       "      <th>94312</th>\n",
       "      <td>41990843</td>\n",
       "      <td>Direito Constitucional</td>\n",
       "      <td>2015-11-15 08:03:53</td>\n",
       "      <td>2015</td>\n",
       "      <td>11</td>\n",
       "      <td>2015-11</td>\n",
       "    </tr>\n",
       "    <tr>\n",
       "      <th>94340</th>\n",
       "      <td>41990843</td>\n",
       "      <td>Direito Penal I</td>\n",
       "      <td>2015-11-15 08:03:53</td>\n",
       "      <td>2015</td>\n",
       "      <td>11</td>\n",
       "      <td>2015-11</td>\n",
       "    </tr>\n",
       "    <tr>\n",
       "      <th>94339</th>\n",
       "      <td>41990843</td>\n",
       "      <td>Direito Constitucional I</td>\n",
       "      <td>2015-11-15 08:03:53</td>\n",
       "      <td>2015</td>\n",
       "      <td>11</td>\n",
       "      <td>2015-11</td>\n",
       "    </tr>\n",
       "    <tr>\n",
       "      <th>...</th>\n",
       "      <td>...</td>\n",
       "      <td>...</td>\n",
       "      <td>...</td>\n",
       "      <td>...</td>\n",
       "      <td>...</td>\n",
       "      <td>...</td>\n",
       "    </tr>\n",
       "    <tr>\n",
       "      <th>94509</th>\n",
       "      <td>41990843</td>\n",
       "      <td>Teoria Geral do Crime</td>\n",
       "      <td>2016-09-21 09:01:03</td>\n",
       "      <td>2016</td>\n",
       "      <td>9</td>\n",
       "      <td>2016-9</td>\n",
       "    </tr>\n",
       "    <tr>\n",
       "      <th>94462</th>\n",
       "      <td>41990843</td>\n",
       "      <td>Teoria Geral do Direito Empresarial</td>\n",
       "      <td>2016-09-21 09:01:04</td>\n",
       "      <td>2016</td>\n",
       "      <td>9</td>\n",
       "      <td>2016-9</td>\n",
       "    </tr>\n",
       "    <tr>\n",
       "      <th>94412</th>\n",
       "      <td>41990843</td>\n",
       "      <td>Desenvolvimento Econômico</td>\n",
       "      <td>2016-09-21 09:01:05</td>\n",
       "      <td>2016</td>\n",
       "      <td>9</td>\n",
       "      <td>2016-9</td>\n",
       "    </tr>\n",
       "    <tr>\n",
       "      <th>94478</th>\n",
       "      <td>41990843</td>\n",
       "      <td>Teoria da Argumentação Jurídica</td>\n",
       "      <td>2016-09-21 09:01:06</td>\n",
       "      <td>2016</td>\n",
       "      <td>9</td>\n",
       "      <td>2016-9</td>\n",
       "    </tr>\n",
       "    <tr>\n",
       "      <th>94544</th>\n",
       "      <td>41990843</td>\n",
       "      <td>Processo Civil de Conhecimento</td>\n",
       "      <td>2016-09-21 09:01:18</td>\n",
       "      <td>2016</td>\n",
       "      <td>9</td>\n",
       "      <td>2016-9</td>\n",
       "    </tr>\n",
       "  </tbody>\n",
       "</table>\n",
       "<p>283 rows × 6 columns</p>\n",
       "</div>"
      ],
      "text/plain": [
       "       StudentId                          SubjectName          FollowDate  \\\n",
       "94342   41990843            Direito Constitucional II 2015-11-15 08:03:53   \n",
       "94320   41990843           Direito Processual Civil I 2015-11-15 08:03:53   \n",
       "94312   41990843               Direito Constitucional 2015-11-15 08:03:53   \n",
       "94340   41990843                      Direito Penal I 2015-11-15 08:03:53   \n",
       "94339   41990843             Direito Constitucional I 2015-11-15 08:03:53   \n",
       "...          ...                                  ...                 ...   \n",
       "94509   41990843                Teoria Geral do Crime 2016-09-21 09:01:03   \n",
       "94462   41990843  Teoria Geral do Direito Empresarial 2016-09-21 09:01:04   \n",
       "94412   41990843            Desenvolvimento Econômico 2016-09-21 09:01:05   \n",
       "94478   41990843      Teoria da Argumentação Jurídica 2016-09-21 09:01:06   \n",
       "94544   41990843       Processo Civil de Conhecimento 2016-09-21 09:01:18   \n",
       "\n",
       "       year  month year-month  \n",
       "94342  2015     11    2015-11  \n",
       "94320  2015     11    2015-11  \n",
       "94312  2015     11    2015-11  \n",
       "94340  2015     11    2015-11  \n",
       "94339  2015     11    2015-11  \n",
       "...     ...    ...        ...  \n",
       "94509  2016      9     2016-9  \n",
       "94462  2016      9     2016-9  \n",
       "94412  2016      9     2016-9  \n",
       "94478  2016      9     2016-9  \n",
       "94544  2016      9     2016-9  \n",
       "\n",
       "[283 rows x 6 columns]"
      ]
     },
     "execution_count": 29,
     "metadata": {},
     "output_type": "execute_result"
    }
   ],
   "source": [
    "df_subjects[df_subjects.StudentId == 41990843]"
   ]
  },
  {
   "cell_type": "code",
   "execution_count": 18,
   "metadata": {},
   "outputs": [
    {
     "data": {
      "text/html": [
       "<div>\n",
       "<style scoped>\n",
       "    .dataframe tbody tr th:only-of-type {\n",
       "        vertical-align: middle;\n",
       "    }\n",
       "\n",
       "    .dataframe tbody tr th {\n",
       "        vertical-align: top;\n",
       "    }\n",
       "\n",
       "    .dataframe thead th {\n",
       "        text-align: right;\n",
       "    }\n",
       "</style>\n",
       "<table border=\"1\" class=\"dataframe\">\n",
       "  <thead>\n",
       "    <tr style=\"text-align: right;\">\n",
       "      <th></th>\n",
       "      <th>StudentId</th>\n",
       "      <th>SubjectName</th>\n",
       "      <th>FollowDate</th>\n",
       "      <th>year</th>\n",
       "      <th>month</th>\n",
       "      <th>year-month</th>\n",
       "    </tr>\n",
       "  </thead>\n",
       "  <tbody>\n",
       "    <tr>\n",
       "      <th>24253</th>\n",
       "      <td>96396664</td>\n",
       "      <td>Orientações para A Prática Profissional</td>\n",
       "      <td>2015-09-05 18:22:25.000000</td>\n",
       "      <td>2015</td>\n",
       "      <td>9</td>\n",
       "      <td>2015-9</td>\n",
       "    </tr>\n",
       "    <tr>\n",
       "      <th>24157</th>\n",
       "      <td>96396664</td>\n",
       "      <td>Ética Profissional</td>\n",
       "      <td>2015-09-05 18:22:25.000000</td>\n",
       "      <td>2015</td>\n",
       "      <td>9</td>\n",
       "      <td>2015-9</td>\n",
       "    </tr>\n",
       "    <tr>\n",
       "      <th>24300</th>\n",
       "      <td>96396664</td>\n",
       "      <td>Serviço Social e Processos de Trabalho I</td>\n",
       "      <td>2015-09-05 18:22:25.000000</td>\n",
       "      <td>2015</td>\n",
       "      <td>9</td>\n",
       "      <td>2015-9</td>\n",
       "    </tr>\n",
       "    <tr>\n",
       "      <th>24252</th>\n",
       "      <td>96396664</td>\n",
       "      <td>Legislação Social I</td>\n",
       "      <td>2015-09-05 18:22:25.000000</td>\n",
       "      <td>2015</td>\n",
       "      <td>9</td>\n",
       "      <td>2015-9</td>\n",
       "    </tr>\n",
       "    <tr>\n",
       "      <th>24271</th>\n",
       "      <td>96396664</td>\n",
       "      <td>Formação Sócio Econômica e Política da Socieda...</td>\n",
       "      <td>2015-09-05 18:22:25.000000</td>\n",
       "      <td>2015</td>\n",
       "      <td>9</td>\n",
       "      <td>2015-9</td>\n",
       "    </tr>\n",
       "    <tr>\n",
       "      <th>...</th>\n",
       "      <td>...</td>\n",
       "      <td>...</td>\n",
       "      <td>...</td>\n",
       "      <td>...</td>\n",
       "      <td>...</td>\n",
       "      <td>...</td>\n",
       "    </tr>\n",
       "    <tr>\n",
       "      <th>24359</th>\n",
       "      <td>96396664</td>\n",
       "      <td>Enap</td>\n",
       "      <td>2018-03-14 16:30:15.062138</td>\n",
       "      <td>2018</td>\n",
       "      <td>3</td>\n",
       "      <td>2018-3</td>\n",
       "    </tr>\n",
       "    <tr>\n",
       "      <th>24214</th>\n",
       "      <td>96396664</td>\n",
       "      <td>Desigualdade e Pobreza</td>\n",
       "      <td>2018-03-14 16:30:15.174495</td>\n",
       "      <td>2018</td>\n",
       "      <td>3</td>\n",
       "      <td>2018-3</td>\n",
       "    </tr>\n",
       "    <tr>\n",
       "      <th>24343</th>\n",
       "      <td>96396664</td>\n",
       "      <td>Serviços Social  Relatório  de Estágio</td>\n",
       "      <td>2018-04-03 11:21:15.427205</td>\n",
       "      <td>2018</td>\n",
       "      <td>4</td>\n",
       "      <td>2018-4</td>\n",
       "    </tr>\n",
       "    <tr>\n",
       "      <th>24361</th>\n",
       "      <td>96396664</td>\n",
       "      <td>Simulado do Enade</td>\n",
       "      <td>2018-04-17 22:00:56.534668</td>\n",
       "      <td>2018</td>\n",
       "      <td>4</td>\n",
       "      <td>2018-4</td>\n",
       "    </tr>\n",
       "    <tr>\n",
       "      <th>24362</th>\n",
       "      <td>96396664</td>\n",
       "      <td>Termo de Responsabilidade e Compromisso</td>\n",
       "      <td>2018-05-29 05:30:05.453940</td>\n",
       "      <td>2018</td>\n",
       "      <td>5</td>\n",
       "      <td>2018-5</td>\n",
       "    </tr>\n",
       "  </tbody>\n",
       "</table>\n",
       "<p>219 rows × 6 columns</p>\n",
       "</div>"
      ],
      "text/plain": [
       "       StudentId                                        SubjectName  \\\n",
       "24253   96396664            Orientações para A Prática Profissional   \n",
       "24157   96396664                                 Ética Profissional   \n",
       "24300   96396664           Serviço Social e Processos de Trabalho I   \n",
       "24252   96396664                                Legislação Social I   \n",
       "24271   96396664  Formação Sócio Econômica e Política da Socieda...   \n",
       "...          ...                                                ...   \n",
       "24359   96396664                                               Enap   \n",
       "24214   96396664                             Desigualdade e Pobreza   \n",
       "24343   96396664             Serviços Social  Relatório  de Estágio   \n",
       "24361   96396664                                  Simulado do Enade   \n",
       "24362   96396664            Termo de Responsabilidade e Compromisso   \n",
       "\n",
       "                      FollowDate  year  month year-month  \n",
       "24253 2015-09-05 18:22:25.000000  2015      9     2015-9  \n",
       "24157 2015-09-05 18:22:25.000000  2015      9     2015-9  \n",
       "24300 2015-09-05 18:22:25.000000  2015      9     2015-9  \n",
       "24252 2015-09-05 18:22:25.000000  2015      9     2015-9  \n",
       "24271 2015-09-05 18:22:25.000000  2015      9     2015-9  \n",
       "...                          ...   ...    ...        ...  \n",
       "24359 2018-03-14 16:30:15.062138  2018      3     2018-3  \n",
       "24214 2018-03-14 16:30:15.174495  2018      3     2018-3  \n",
       "24343 2018-04-03 11:21:15.427205  2018      4     2018-4  \n",
       "24361 2018-04-17 22:00:56.534668  2018      4     2018-4  \n",
       "24362 2018-05-29 05:30:05.453940  2018      5     2018-5  \n",
       "\n",
       "[219 rows x 6 columns]"
      ]
     },
     "execution_count": 18,
     "metadata": {},
     "output_type": "execute_result"
    }
   ],
   "source": [
    "df_subjects[df_subjects.StudentId == 96396664]"
   ]
  }
 ],
 "metadata": {
  "kernelspec": {
   "display_name": "Python 3",
   "language": "python",
   "name": "python3"
  },
  "language_info": {
   "codemirror_mode": {
    "name": "ipython",
    "version": 3
   },
   "file_extension": ".py",
   "mimetype": "text/x-python",
   "name": "python",
   "nbconvert_exporter": "python",
   "pygments_lexer": "ipython3",
   "version": "3.7.6"
  },
  "pycharm": {
   "stem_cell": {
    "cell_type": "raw",
    "metadata": {
     "collapsed": false
    },
    "source": []
   }
  }
 },
 "nbformat": 4,
 "nbformat_minor": 1
}
